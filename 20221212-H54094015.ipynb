{
 "cells": [
  {
   "cell_type": "markdown",
   "id": "d777bcf6",
   "metadata": {},
   "source": [
    "We consider the following LP:\n",
    "\n",
    "$$\n",
    "(P)\\begin{array}{rl}\n",
    "\\max & 3x_1+5x_2\\\\\n",
    "s.t.   & x_1+x_3=4\\\\\n",
    "       & 2x_2+x_4=12\\\\\n",
    "       & 3x_1+2x_2+x_5=18\\\\\n",
    "       & x_1,x_2,x_3,x_4,x_5 \\geq 0\\\\\n",
    "\\end{array}\n",
    "$$"
   ]
  },
  {
   "cell_type": "markdown",
   "id": "b8c671a1",
   "metadata": {},
   "source": [
    "The feasible domain can be plotted as \n",
    "\n",
    "<img src=\"figure001.png\">\n",
    "<center>\n",
    "The feasible domain in $\\mathbb{R}^2$\n",
    "</center>"
   ]
  },
  {
   "cell_type": "markdown",
   "id": "1c0a2fa2",
   "metadata": {},
   "source": [
    "All possible basic feasible solutions are computed.\n",
    "<center>\n",
    "    Extreme Points in $\\mathbb{R}^{5}$\n",
    "</center>\n",
    "$$\n",
    "\\begin{array}{lll}\n",
    "(0,0,4,12,18), &x_1=0, x_2=0\\\\\n",
    "(0,6,4,0,6),   &x_1=0, x_4=0\\\\\n",
    "(0,9,4,-6,0),  &x_1=0, x_5=0\\\\\n",
    "(2,6,2,0,0),   &x_4=0, x_5=0\\\\\n",
    "(4,0,0,12,6),  &x_2=0, x_3=0\\\\\n",
    "(4,3,0,12,0),  &x_3=0, x_5=0\\\\\n",
    "(4,6,0,0,-6),  &x_3=0, x_4=0\\\\\n",
    "(6,0,-2,6,0),  &x_2=0, x_5=0\\\\\n",
    "\\end{array}\n",
    "$$"
   ]
  },
  {
   "cell_type": "markdown",
   "id": "4532d3b4",
   "metadata": {},
   "source": [
    "The iteration of simplex method is given by \n",
    "$$\n",
    "\\begin{array}{lll}\n",
    "(4,0,0,12,6),  & x_2=0, x_3=0\\\\\n",
    "&\\Downarrow\\\\\n",
    "(4,3,0,12,0),  & x_3=0, x_5=0\\\\\n",
    "&\\Downarrow\\\\\n",
    "(2,6,2,0,0),   & x_4=0, x_5=0\\\\\n",
    "\\end{array}\n",
    "$$"
   ]
  },
  {
   "cell_type": "markdown",
   "id": "d8622ef7",
   "metadata": {},
   "source": [
    "<img src=\"table004003.png\">\n",
    "<center>\n",
    "</center>"
   ]
  },
  {
   "cell_type": "markdown",
   "id": "99165e0e",
   "metadata": {},
   "source": [
    "<img src=\"table004004.png\">\n",
    "<center>\n",
    "</center>"
   ]
  },
  {
   "cell_type": "markdown",
   "id": "3e4162e2",
   "metadata": {},
   "source": [
    "<img src=\"table004005.png\">\n",
    "<center>\n",
    "</center>"
   ]
  },
  {
   "cell_type": "markdown",
   "id": "ca860cfa",
   "metadata": {},
   "source": [
    "<img src=\"table004006.png\">\n",
    "<center>\n",
    "</center>"
   ]
  },
  {
   "cell_type": "markdown",
   "id": "d3111ed2",
   "metadata": {},
   "source": [
    "Original Form:\n",
    "$$\n",
    "\\begin{array}{cccccccccccccccccc}\n",
    "z:   & z & - & 3x_1& - & 5x_2 &   &     &   &     &   &     & = & 0\\\\\n",
    "x_3: &   &   &  x_1&   &      & + & {x_3} &   &     &   &     & = & 4\\\\\n",
    "x_2: &   &   &     & + & {2x_2} &   &     & + & x_4 &   &     & = & 12 \\\\\n",
    "x_5: &   &   & 3x_1& + & {2x_2} &   &     &   &     & + & {x_5} & = & 18\\\\\n",
    "\\end{array}\n",
    "$$\n",
    "\n",
    "Simplified Form\n",
    "$$\n",
    "\\begin{array}{cccccccccccccccccc}\n",
    "z:   & {z} & - & 3x_1& +  & {0x_2} & + &{0x_3} & + & \\displaystyle\\frac{5}{2}x_4    & + & {0x_5} & = & 30\\\\\n",
    "x_3: & {0z}&   &  x_1& +  & {0x_2} & + &{ x_3} &   &                      & + & {0x_5} & = & 4\\\\\n",
    "x_2: & {0z}&   &     & +  & {x_2 } & + &{0x_3} & + & \\displaystyle\\frac{1}{2}x_4    & + & {0x_5} & = & 6 \\\\\n",
    "x_5: & {0z}&   & 3x_1& +  & {0x_2} & + &{0x_3} & -  & x_4                 & + & {x_5 }& = & 6\\\\\n",
    "\\end{array}\n",
    "$$"
   ]
  },
  {
   "cell_type": "markdown",
   "id": "d3bc26f9",
   "metadata": {},
   "source": [
    "<img src=\"table004007.png\">\n",
    "<center>\n",
    "</center>"
   ]
  },
  {
   "cell_type": "markdown",
   "id": "2e9d210d",
   "metadata": {},
   "source": [
    "Suppose $x_1$ and $x_4$ are set to zero. Want to know the values of $z$, $x_2$, $x_3$, $x_5$.\n",
    "\n",
    "Original Form:\n",
    "$$\n",
    "\\begin{array}{cccccccccccccccccc}\n",
    "z:   & z & - & 3x_1& - & 5x_2 &   &     &   &     &   &     & = & 0\\\\\n",
    "x_3: &   &   &  x_1&   &      & + & {x_3} &   &     &   &     & = & 4\\\\\n",
    "x_2: &   &   &     & + & {2x_2} &   &     & + & x_4 &   &     & = & 12 \\\\\n",
    "x_5: &   &   & 3x_1& + & {2x_2} &   &     &   &     & + & {x_5} & = & 18\\\\\n",
    "\\end{array}\n",
    "$$\n",
    "Simplified Form\n",
    "$$\n",
    "\\begin{array}{cccccccccccccccccc}\n",
    "z:   & {z} & - & 3x_1& +  & {0x_2} & + &{0x_3} & + & \\displaystyle\\frac{5}{2}x_4    & + & {0x_5} & = & 30\\\\\n",
    "x_3: & {0z}&   &  x_1& +  & {0x_2} & + &{ x_3} &   &                      & + & {0x_5} & = & 4\\\\\n",
    "x_2: & {0z}&   &     & +  & {x_2 } & + &{0x_3} & + & \\displaystyle\\frac{1}{2}x_4    & + & {0x_5} & = & 6 \\\\\n",
    "x_5: & {0z}&   & 3x_1& +  & {0x_2} & + &{0x_3} & -  & x_4                 & + & {x_5 }& = & 6\\\\\n",
    "\\end{array}\n",
    "$$\n",
    "\n",
    "<ul>\n",
    "  <li> These two systems of linear equations are coincided.\n",
    "  <li> The objective value $30$ is directly obtained from the second system.\n",
    "  <li> We can observe how we reduce the value of $z$.\n",
    "  <li> If we fix $x_4$ by $0$ and increase $x_1$, then there is a convenient way for updating the value $x_1$.\n",
    "      </ul>"
   ]
  },
  {
   "cell_type": "markdown",
   "id": "dc09215b",
   "metadata": {},
   "source": [
    "Matrix Representation for Tabular Form\n",
    "\n",
    "Let\n",
    "$$\n",
    "\\bar{A}=\n",
    "\\left[\n",
    "\\begin{array}{ccc}\n",
    "1 & -{\\bf c}^t & 0\\\\\n",
    "{\\bf 0} & A & {\\bf b}\\\\\n",
    "\\end{array}\n",
    "\\right]\n",
    "=\\left[\n",
    "\\begin{array}{ccccccc}\n",
    "1 & -3 & -5 & 0 & 0 & 0 & 0  \\\\\n",
    "0 & 1  & 0  & 1 & 0 & 0 & 4  \\\\\n",
    "0 & 0  & 2  & 0 & 1 & 0 & 12 \\\\\n",
    "0 & 3  & 2  & 0 & 0 & 1 & 18 \\\\\n",
    "\\end{array}\n",
    "\\right]\\hbox{ and }\n",
    "\\bar{B}=\\left[\n",
    "\\begin{array}{ccc}\n",
    "1 & -{\\bf c}_{B}^t \\\\\n",
    "{\\bf 0} & B\\\\\n",
    "\\end{array}\n",
    "\\right].\n",
    "$$\n",
    "Set\n",
    "$$\n",
    "%\\hbox{ and }\n",
    "B=\\left[\n",
    "\\begin{array}{cccc}\n",
    " 1 & 0 & 0 \\\\\n",
    " 0 & 2 & 0 \\\\\n",
    " 0 & 2 & 1 \\\\\n",
    "\\end{array}\n",
    "\\right]\n",
    "\\hbox{ and }\n",
    "B^{-1}=\\left[\n",
    "\\begin{array}{cccc}\n",
    " 1 & 0 & 0 \\\\\n",
    " 0 & 1/2 & 0 \\\\\n",
    " 0 & -1 & 1 \\\\\n",
    "\\end{array}\n",
    "\\right].\n",
    "$$\n",
    "Then\n",
    "$$\n",
    "\\bar{B}^{-1}=\n",
    "\\left[\n",
    "\\begin{array}{ccc}\n",
    "1 & {\\bf c}_{B}^tB^{-1} \\\\\n",
    "{\\bf 0} & B^{-1}\\\\\n",
    "\\end{array}\n",
    "\\right]=\n",
    "\\left[\n",
    "\\begin{array}{cccc}\n",
    "1  & 0 & 5/2& 0 \\\\\n",
    "0  & 1 & 0 & 0 \\\\\n",
    "0  & 0 & 1/2 & 0 \\\\\n",
    "0  & 0 & -1 & 1 \\\\\n",
    "\\end{array}\n",
    "\\right].\n",
    "$$\n",
    "\n",
    "$$\n",
    "\\bar{B}^{-1}\\bar{A}=\n",
    "\\left[\n",
    "\\begin{array}{ccc}\n",
    "1 & {\\bf c}_{B}^tB^{-1} \\\\\n",
    "{\\bf 0} & B^{-1}\\\\\n",
    "\\end{array}\n",
    "\\right]\n",
    "\\left[\n",
    "\\begin{array}{ccc}\n",
    "1 & -{\\bf c}^t & 0\\\\\n",
    "{\\bf 0} & A & {\\bf b}\\\\\n",
    "\\end{array}\n",
    "\\right]\n",
    "=\n",
    "\\left[\n",
    "\\begin{array}{ccc}\n",
    "1 & -{\\bf c}^t+{\\bf c}_{B}^{t}B^{-1}A & {\\bf c}_{B}^{t}B^{-1}{\\bf b}\\\\\n",
    "{\\bf 0} & B^{-1}A & B^{-1}{\\bf b}\\\\\n",
    "\\end{array}\n",
    "\\right]\n",
    "$$\n",
    "$$\n",
    "=\\left[\n",
    "\\begin{array}{ccccccc}\n",
    "1 & -3 & 0 & 0 & 5/2 & 0 & 30  \\\\\n",
    "0 & 1  & 0  & 1 & 0 & 0 & 4  \\\\\n",
    "0 & 0  & 1  & 0 & 1/2 & 0 & 6 \\\\\n",
    "0 & 3  & 0  & 0 & -1 & 1 & 6 \\\\\n",
    "\\end{array}\n",
    "\\right]({\\hbox{Please verify it by yourself once}})\n",
    "$$"
   ]
  },
  {
   "cell_type": "markdown",
   "id": "bd3b5e71",
   "metadata": {},
   "source": []
  },
  {
   "cell_type": "code",
   "execution_count": 10,
   "id": "2242dffd",
   "metadata": {},
   "outputs": [],
   "source": [
    "import numpy as np\n",
    "import sympy"
   ]
  },
  {
   "cell_type": "markdown",
   "id": "9b574e95",
   "metadata": {},
   "source": [
    "<img src=\"table004003.png\">\n",
    "<center>\n",
    "</center>"
   ]
  },
  {
   "cell_type": "markdown",
   "id": "65aee866",
   "metadata": {},
   "source": [
    "$$\n",
    "(P)\\begin{array}{rl}\n",
    "\\max & 3x_1+5x_2\\\\\n",
    "s.t.   & x_1+x_3=4\\\\\n",
    "       & 2x_2+x_4=12\\\\\n",
    "       & 3x_1+2x_2+x_5=18\\\\\n",
    "       & x_1,x_2,x_3,x_4,x_5 \\geq 0\\\\\n",
    "\\end{array}\n",
    "$$"
   ]
  },
  {
   "cell_type": "markdown",
   "id": "3034656e",
   "metadata": {},
   "source": [
    "Declare a numpy array c=np.zeros((n,1)) to store the cost vector \n",
    "$$\n",
    "\\left[\\begin{array}{c}\n",
    "3\\\\\n",
    "5\\\\\n",
    "0\\\\\n",
    "0\\\\\n",
    "0\\\\\n",
    "\\end{array}\n",
    "\\right]\n",
    "$$"
   ]
  },
  {
   "cell_type": "code",
   "execution_count": 11,
   "id": "bb61d26c",
   "metadata": {},
   "outputs": [
    {
     "name": "stdout",
     "output_type": "stream",
     "text": [
      "[[ 4.]\n",
      " [12.]\n",
      " [18.]]\n"
     ]
    }
   ],
   "source": [
    "m=3\n",
    "b=np.zeros((m,1))\n",
    "b[0,0]=4\n",
    "b[1,0]=12\n",
    "b[2,0]=18\n",
    "print(b)"
   ]
  },
  {
   "cell_type": "markdown",
   "id": "d99093b1",
   "metadata": {},
   "source": [
    "Declare a numpy array b=np.zeros((n,1)) to store the right-hand-side vector  \n",
    "$$\n",
    "\\left[\\begin{array}{c}\n",
    "1 & 0 & 1 & 0 & 0\\\\\n",
    "0 & 2 & 0 & 1 & 0\\\\\n",
    "3 & 2 & 0 & 0 & 1\\\\\n",
    "\\end{array}\n",
    "\\right]\n",
    "$$"
   ]
  },
  {
   "cell_type": "code",
   "execution_count": 12,
   "id": "7daa8228",
   "metadata": {},
   "outputs": [
    {
     "name": "stdout",
     "output_type": "stream",
     "text": [
      "[[1. 0. 1. 0. 0.]\n",
      " [0. 2. 0. 1. 0.]\n",
      " [3. 2. 0. 0. 1.]]\n"
     ]
    }
   ],
   "source": [
    "m,n=3,5\n",
    "A=np.zeros((m,n))\n",
    "A[0,0]=1\n",
    "A[1,0]=0\n",
    "A[2,0]=3\n",
    "\n",
    "A[0,1]=0\n",
    "A[1,1]=2\n",
    "A[2,1]=2\n",
    "\n",
    "A[0,2]=1\n",
    "A[1,2]=0\n",
    "A[2,2]=0\n",
    "\n",
    "A[0,3]=0\n",
    "A[1,3]=1\n",
    "A[2,3]=0\n",
    "\n",
    "A[0,4]=0\n",
    "A[1,4]=0\n",
    "A[2,4]=1\n",
    "\n",
    "print(A)"
   ]
  },
  {
   "cell_type": "code",
   "execution_count": 13,
   "id": "5b4c15ee",
   "metadata": {},
   "outputs": [
    {
     "name": "stdout",
     "output_type": "stream",
     "text": [
      "[[1 0 1 0 0]\n",
      " [0 2 0 1 0]\n",
      " [3 2 0 0 1]]\n"
     ]
    }
   ],
   "source": [
    "A=np.array([[1,0,1,0,0],[0,2,0,1,0],[3,2,0,0,1]]) #用list 輸入再轉為np.array\n",
    "print(A)"
   ]
  },
  {
   "cell_type": "markdown",
   "id": "efe98901",
   "metadata": {},
   "source": [
    "Declare a numpy array A=np.zeros((m,n)) to store the cost vector \n",
    "$$\n",
    "\\left[\\begin{array}{c}\n",
    "3\\\\\n",
    "5\\\\\n",
    "0\\\\\n",
    "0\\\\\n",
    "0\\\\\n",
    "\\end{array}\n",
    "\\right]\n",
    "$$"
   ]
  },
  {
   "cell_type": "code",
   "execution_count": 14,
   "id": "6b807a0e",
   "metadata": {},
   "outputs": [
    {
     "name": "stdout",
     "output_type": "stream",
     "text": [
      "[[3.]\n",
      " [5.]\n",
      " [0.]\n",
      " [0.]\n",
      " [0.]]\n"
     ]
    }
   ],
   "source": [
    "n=5\n",
    "c=np.zeros((n,1))\n",
    "c[0,0]=3\n",
    "c[1,0]=5\n",
    "c[2,0]=0\n",
    "c[3,0]=0\n",
    "c[4,0]=0\n",
    "print(c)"
   ]
  },
  {
   "cell_type": "markdown",
   "id": "de87a66f",
   "metadata": {},
   "source": [
    "In order to obtain the matrix in \n",
    "<img src=\"table004003.png\">\n",
    "Use $A$, $b$, $c$ to construct the augmented matrix:\n",
    "$$\n",
    "\\left[\n",
    "\\begin{array}{ccccccc}\n",
    "1 & -3 & -5 & 0 & 0 & 0 & 0  \\\\\n",
    "0 & 1  & 0  & 1 & 0 & 0 & 4  \\\\\n",
    "0 & 0  & 2  & 0 & 1 & 0 & 12 \\\\\n",
    "0 & 3  & 2  & 0 & 0 & 1 & 18 \\\\\n",
    "\\end{array}\n",
    "\\right]\n",
    "$$\n",
    "\n",
    "You may need the following link:\n",
    "\n",
    "<a href=\"https://numpy.org/doc/stable/reference/generated/numpy.vstack.html\" target=\"_blank\" title=\"numpy.hstack\">numpy.hstack</a>\n",
    "\n",
    "<a href=\"https://numpy.org/doc/stable/reference/generated/numpy.vstack.html\" target=\"_blank\" title=\"numpy.vstack\">numpy.vstack</a>"
   ]
  },
  {
   "cell_type": "code",
   "execution_count": 21,
   "id": "4e7ba728",
   "metadata": {},
   "outputs": [
    {
     "name": "stdout",
     "output_type": "stream",
     "text": [
      "[[ 1. -3. -5. -0. -0. -0.  0.]\n",
      " [ 0.  1.  0.  1.  0.  0.  4.]\n",
      " [ 0.  0.  2.  0.  1.  0. 12.]\n",
      " [ 0.  3.  2.  0.  0.  1. 18.]]\n"
     ]
    }
   ],
   "source": [
    "A0=np.hstack((np.array([[1]]),-c.transpose(),np.array([[0]])))\n",
    "A1=np.hstack((np.zeros((3,1)),A,b))\n",
    "barA=np.vstack((A0,A1))\n",
    "print(barA)"
   ]
  },
  {
   "cell_type": "code",
   "execution_count": 25,
   "id": "37207776",
   "metadata": {
    "scrolled": true
   },
   "outputs": [
    {
     "name": "stdout",
     "output_type": "stream",
     "text": [
      "[[ 1. -3. -5. -0. -0. -0.  0.]\n",
      " [ 0.  1.  0.  1.  0.  0.  4.]\n",
      " [ 0.  0.  2.  0.  1.  0. 12.]\n",
      " [ 0.  3.  2.  0.  0.  1. 18.]]\n"
     ]
    }
   ],
   "source": [
    "A3=np.vstack((np.array([[1]]),np.zeros((3,1))))\n",
    "A4=np.vstack((-c.transpose(),A))\n",
    "A5=np.vstack((np.array([[0]]),b)) \n",
    "barA=np.hstack((A3,A4,A5))\n",
    "print (barA)"
   ]
  },
  {
   "cell_type": "markdown",
   "id": "71844261",
   "metadata": {},
   "source": [
    "We want to get the $1_{st}$, $4_{th}$, $5_{th}$, $6_{th}$ colunmns of  \n",
    "$$\\left[\n",
    "\\begin{array}{ccccccc}\n",
    "1 & -3 & -5 & 0 & 0 & 0 & 0  \\\\\n",
    "0 & 1  & 0  & 1 & 0 & 0 & 4  \\\\\n",
    "0 & 0  & 2  & 0 & 1 & 0 & 12 \\\\\n",
    "0 & 3  & 2  & 0 & 0 & 1 & 18 \\\\\n",
    "\\end{array}\n",
    "\\right]$$\n",
    "in order to produce the basis matrix \n",
    "$$\n",
    "B=\\left[\n",
    "\\begin{array}{cccc}\n",
    "1  & 0 & 0& 0 \\\\\n",
    "0  & 1 & 0 & 0 \\\\\n",
    "0  & 0 & 1 & 0 \\\\\n",
    "0  & 0 & 0 & 1 \\\\\n",
    "\\end{array}\n",
    "\\right]\n",
    "$$"
   ]
  },
  {
   "cell_type": "code",
   "execution_count": 28,
   "id": "fa4888c4",
   "metadata": {},
   "outputs": [
    {
     "name": "stdout",
     "output_type": "stream",
     "text": [
      "[[ 1. -0. -0. -0.]\n",
      " [ 0.  1.  0.  0.]\n",
      " [ 0.  0.  1.  0.]\n",
      " [ 0.  0.  0.  0.]]\n"
     ]
    }
   ],
   "source": [
    "B=np.zeros((m+1,m+1)) #基本產生B的方式\n",
    "B_index=[0,3,4,5]\n",
    "for j in range (len(B_index)):\n",
    "    for i in range (m):\n",
    "        B[i,j]=barA[i,B_index[j]]\n",
    "print(B)"
   ]
  },
  {
   "cell_type": "code",
   "execution_count": 29,
   "id": "38210d36",
   "metadata": {},
   "outputs": [
    {
     "name": "stdout",
     "output_type": "stream",
     "text": [
      "[[ 1. -0. -0. -0.]\n",
      " [ 0.  1.  0.  0.]\n",
      " [ 0.  0.  1.  0.]\n",
      " [ 0.  0.  0.  1.]]\n"
     ]
    }
   ],
   "source": [
    "B_index=[0,3,4,5] #用python的指令產生B的方式\n",
    "B=barA[:,B_index]\n",
    "print(B)"
   ]
  },
  {
   "cell_type": "markdown",
   "id": "680c1b1c",
   "metadata": {},
   "source": [
    "Transfer \n",
    "$$\n",
    "\\left[\n",
    "\\begin{array}{ccccccc}\n",
    "1 & -3 & -5 & 0 & 0 & 0 & 0  \\\\\n",
    "0 & 1  & 0  & 1 & 0 & 0 & 4  \\\\\n",
    "0 & 0  & 2  & 0 & 1 & 0 & 12 \\\\\n",
    "0 & 3  & 2  & 0 & 0 & 1 & 18 \\\\\n",
    "\\end{array}\n",
    "\\right]\n",
    "$$\n",
    "into the following form:\n",
    "$$\n",
    "\\left[\n",
    "\\begin{array}{ccccccc}\n",
    "1 & -3 & 0 & 0 & 5/2 & 0 & 30  \\\\\n",
    "0 & 1  & 0  & 1 & 0 & 0 & 4  \\\\\n",
    "0 & 0  & 1  & 0 & 1/2 & 0 & 6 \\\\\n",
    "0 & 3  & 0  & 0 & -1 & 1 & 6 \\\\\n",
    "\\end{array}\n",
    "\\right]\n",
    "$$\n",
    "Then we obtain \n",
    "\n",
    "<img src=\"table004004.png\">\n",
    "<center>\n",
    "</center>"
   ]
  },
  {
   "cell_type": "code",
   "execution_count": 30,
   "id": "fb37419d",
   "metadata": {},
   "outputs": [
    {
     "name": "stdout",
     "output_type": "stream",
     "text": [
      "[[ 1. -0. -5. -0.]\n",
      " [ 0.  1.  0.  0.]\n",
      " [ 0.  0.  2.  0.]\n",
      " [ 0.  0.  2.  1.]]\n",
      "[[ 1.  -3.   0.   0.   2.5  0.  30. ]\n",
      " [ 0.   1.   0.   1.   0.   0.   4. ]\n",
      " [ 0.   0.   1.   0.   0.5  0.   6. ]\n",
      " [ 0.   3.   0.   0.  -1.   1.   6. ]]\n"
     ]
    }
   ],
   "source": [
    "B_index=[0,3,4,5]\n",
    "N_index=[1,2]\n",
    "B_index=[0,3,2,5]\n",
    "N_index=[1,4]\n",
    "B=barA[:,B_index]\n",
    "print(B)\n",
    "tabular=np.linalg.inv(B).dot(barA)\n",
    "print(tabular)"
   ]
  },
  {
   "cell_type": "code",
   "execution_count": 39,
   "id": "068836f1",
   "metadata": {
    "scrolled": true
   },
   "outputs": [
    {
     "name": "stdout",
     "output_type": "stream",
     "text": [
      "1.00-3.00-5.000.000.000.000.00 \n",
      "0.001.000.001.000.000.004.00 \n",
      "0.000.002.000.001.000.0012.00 \n",
      "0.003.002.000.000.001.0018.00 \n"
     ]
    }
   ],
   "source": [
    "for i in range(m+1):\n",
    "    for j in range (n+2):\n",
    "        print(\"%.2f\" % tabular[i,j],end=\"\")\n",
    "    print(\" \")"
   ]
  },
  {
   "cell_type": "code",
   "execution_count": 41,
   "id": "2d045fd7",
   "metadata": {},
   "outputs": [
    {
     "name": "stdout",
     "output_type": "stream",
     "text": [
      "1.00-3.00-5.000.000.000.000.00 \n",
      "0.001.000.001.000.000.004.00 \n",
      "0.000.002.000.001.000.0012.00 \n",
      "0.003.002.000.000.001.0018.00 \n",
      "-3.0\n",
      "-5.0\n",
      "0.0\n",
      "0.0\n",
      "0.0\n",
      "-5.0 2\n",
      "-3.0\n",
      "-5.0\n",
      "0.0\n",
      "0.0\n",
      "0.0\n",
      "-5.0 2\n"
     ]
    }
   ],
   "source": [
    "B_index=[0,3,4,5]\n",
    "N_index=[1,2]\n",
    "B=barA[:,B_index]\n",
    "#print(B)\n",
    "tabular=np.linalg.inv(B).dot(barA)\n",
    "#print(tabular)\n",
    "for i in range(m+1):\n",
    "    for j in range (n+2):\n",
    "        print(\"%.2f\" % tabular[i,j],end=\"\")\n",
    "    print(\" \")\n",
    "minValue=float(\"inf\") \n",
    "p=-1  #p為加入的變數\n",
    "for j in range(1,n+1):\n",
    "    if tabular[0,j] < minValue:\n",
    "        minValue = tabular[0,j]\n",
    "        p=j\n",
    "    print(tabular[0,j])\n",
    "print(minValue,p)\n",
    "\n",
    "minValue=float(\"inf\") \n",
    "q=1  #p為拿出的變數\n",
    "for j in range(1,n+1):\n",
    "    if tabular[0,j] < minValue:\n",
    "        minValue = tabular[0,j]\n",
    "        q=B_index[i]\n",
    "    print(tabular[0,j])\n",
    "print(minValue,p)"
   ]
  },
  {
   "cell_type": "code",
   "execution_count": null,
   "id": "457fc230",
   "metadata": {},
   "outputs": [],
   "source": []
  }
 ],
 "metadata": {
  "kernelspec": {
   "display_name": "Python 3",
   "language": "python",
   "name": "python3"
  },
  "language_info": {
   "codemirror_mode": {
    "name": "ipython",
    "version": 3
   },
   "file_extension": ".py",
   "mimetype": "text/x-python",
   "name": "python",
   "nbconvert_exporter": "python",
   "pygments_lexer": "ipython3",
   "version": "3.8.8"
  }
 },
 "nbformat": 4,
 "nbformat_minor": 5
}
