{
 "cells": [
  {
   "cell_type": "code",
   "execution_count": 30,
   "id": "be0ef721",
   "metadata": {},
   "outputs": [],
   "source": [
    "import random\n",
    "import numpy as np"
   ]
  },
  {
   "cell_type": "code",
   "execution_count": 31,
   "id": "4a6fa853",
   "metadata": {},
   "outputs": [
    {
     "data": {
      "text/plain": [
       "0.5714025946899135"
      ]
     },
     "execution_count": 31,
     "metadata": {},
     "output_type": "execute_result"
    }
   ],
   "source": [
    "random.seed(10)\n",
    "random.random()"
   ]
  },
  {
   "cell_type": "code",
   "execution_count": 32,
   "id": "d5cb02ce",
   "metadata": {},
   "outputs": [
    {
     "name": "stdout",
     "output_type": "stream",
     "text": [
      "[[0.1456692551041303, 0.45492700451402135, 0.7707838056590222], [0.705513226934028, 0.7319589730332557, 0.43351443489540376], [0.8000204571334277, 0.5329014146425713, 0.08015370917850195], [0.45594588118356716, 0.047887516459941715, 0.9329624000750505], [0.9470780060029439, 0.33535077594001006, 0.3094059291400342], [0.7680181487450805, 0.20386952877685705, 0.17846076295399127], [0.18859491417448548, 0.34700445361481724, 0.6263216391927974], [0.9633157837008631, 0.21083399208685016, 0.9561006461166511], [0.555399665801069, 0.9011520429873923, 0.8180181933574304], [0.16042180997493383, 0.648542908120573, 0.12409328058844371]]\n"
     ]
    }
   ],
   "source": [
    "teamNumber=100\n",
    "random.seed(teamNumber)\n",
    "dataPointSet=[]\n",
    "dataPointLabel=[]\n",
    "N=10\n",
    "M=3\n",
    "\n",
    "while len(dataPointSet)<N:\n",
    "    dataPointSet.append([])\n",
    "    for j in range(M):\n",
    "        dataPointSet[-1].append(random.random())\n",
    "    x=dataPointSet[-1]\n",
    "print(dataPointSet)"
   ]
  },
  {
   "cell_type": "code",
   "execution_count": 33,
   "id": "9eb94e7e",
   "metadata": {},
   "outputs": [
    {
     "name": "stdout",
     "output_type": "stream",
     "text": [
      "[[0, 1, 0], [1, 0, 0], [0, 1, 0], [1, 0, 0], [1, 0, 0], [0, 1, 0], [0, 1, 0], [1, 0, 0], [1, 0, 0], [0, 1, 0]]\n"
     ]
    }
   ],
   "source": [
    "teamNumber=100\n",
    "random.seed(teamNumber)\n",
    "dataPointSet=[]\n",
    "dataPointLabel=[]\n",
    "N=10\n",
    "M=3\n",
    "\n",
    "while len(dataPointSet)<N:\n",
    "    dataPointSet.append([])\n",
    "    for j in range(M):\n",
    "        dataPointSet[-1].append(random.random())\n",
    "        \n",
    "    x=dataPointSet[-1]\n",
    "    if np.linalg.norm(x)==1 or np.linalg.norm(x)==(1/2) or np.linalg.norm(x)==0:\n",
    "        dataPointSet.remove(x)\n",
    "    elif np.linalg.norm(x)>1:\n",
    "        dataPointLabel.append([1,0,0])\n",
    "    elif np.linalg.norm(x)<1 and np.linalg.norm(x)>(1/2) :\n",
    "        dataPointLabel.append([0,1,0])\n",
    "    else:\n",
    "        dataPointLabel.append([0,0,1])  \n",
    "print(dataPointLabel)"
   ]
  },
  {
   "cell_type": "code",
   "execution_count": 34,
   "id": "2b18f513",
   "metadata": {},
   "outputs": [
    {
     "name": "stdout",
     "output_type": "stream",
     "text": [
      "0.9795281454454716\n",
      "0.9971048806146215\n",
      "0.9607454187382392\n"
     ]
    }
   ],
   "source": [
    "random.seed(2022)\n",
    "bar_w4=[random.random(),random.random(),random.random()]\n",
    "bar_w5=[random.random(),random.random(),random.random()]\n",
    "bar_w6=[random.random(),random.random()]\n",
    "bar_w7=[random.random(),random.random()]\n",
    "bar_w8=[random.random(),random.random()]\n",
    "\n",
    "bar_wA=[61,71,81]\n",
    "bar_wB=[62,72,82]\n",
    "bar_wC=[63,73,83]\n",
    "\n",
    "x=[[],1,2,3,0,0,0,0,0]\n",
    "x[4]=x[4]+bar_w4[0]*x[1]\n",
    "x[4]=x[4]+bar_w4[1]*x[2]\n",
    "x[4]=x[4]+bar_w4[2]*x[3]\n",
    "x[5]=x[5]+bar_w5[0]*x[1]\n",
    "x[5]=x[5]+bar_w5[1]*x[2]\n",
    "x[5]=x[5]+bar_w5[2]*x[3]\n",
    "\n",
    "x[6]=x[6]+bar_w6[0]*x[4]\n",
    "x[6]=x[6]+bar_w6[1]*x[5]\n",
    "x[7]=x[7]+bar_w7[0]*x[4]\n",
    "x[7]=x[7]+bar_w7[1]*x[5]\n",
    "x[8]=x[8]+bar_w8[0]*x[4]\n",
    "x[8]=x[8]+bar_w8[1]*x[5]\n",
    "\n",
    "y=[[],0,0,0]\n",
    "#y1-y3\n",
    "y[1]=y[1]+bar_wA[0]*x[6]\n",
    "y[1]=y[1]+bar_wA[1]*x[7]\n",
    "y[1]=y[1]+bar_wA[2]*x[8]\n",
    "y[2]=y[2]+bar_wB[0]*x[6]\n",
    "y[2]=y[2]+bar_wB[1]*x[7]\n",
    "y[2]=y[2]+bar_wB[2]*x[8]\n",
    "y[3]=y[3]+bar_wC[0]*x[6]\n",
    "y[3]=y[3]+bar_wC[1]*x[7]\n",
    "y[3]=y[3]+bar_wC[2]*x[8]\n",
    "\n",
    "def functionSig(x):\n",
    "    return 1/(1+np.exp(-x))\n",
    "F=[[],0,0,0]\n",
    "F[1]=functionSig(x[6])\n",
    "F[2]=functionSig(x[7])\n",
    "F[3]=functionSig(x[8])\n",
    "print(F[1])\n",
    "print(F[2])\n",
    "print(F[3])"
   ]
  },
  {
   "cell_type": "code",
   "execution_count": null,
   "id": "d44c8558",
   "metadata": {},
   "outputs": [],
   "source": []
  },
  {
   "cell_type": "code",
   "execution_count": null,
   "id": "5953b3af",
   "metadata": {},
   "outputs": [],
   "source": []
  }
 ],
 "metadata": {
  "kernelspec": {
   "display_name": "Python 3",
   "language": "python",
   "name": "python3"
  },
  "language_info": {
   "codemirror_mode": {
    "name": "ipython",
    "version": 3
   },
   "file_extension": ".py",
   "mimetype": "text/x-python",
   "name": "python",
   "nbconvert_exporter": "python",
   "pygments_lexer": "ipython3",
   "version": "3.8.8"
  }
 },
 "nbformat": 4,
 "nbformat_minor": 5
}
