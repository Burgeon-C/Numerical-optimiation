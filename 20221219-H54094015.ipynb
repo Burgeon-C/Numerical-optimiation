{
 "cells": [
  {
   "cell_type": "markdown",
   "id": "d777bcf6",
   "metadata": {},
   "source": [
    "We consider the following LP:\n",
    "\n",
    "$$\n",
    "(P)\\begin{array}{rl}\n",
    "\\max & 3x_1+5x_2\\\\\n",
    "s.t.   & x_1+x_3=4\\\\\n",
    "       & 2x_2+x_4=12\\\\\n",
    "       & 3x_1+2x_2+x_5=18\\\\\n",
    "       & x_1,x_2,x_3,x_4,x_5 \\geq 0\\\\\n",
    "\\end{array}\n",
    "$$"
   ]
  },
  {
   "cell_type": "markdown",
   "id": "b8c671a1",
   "metadata": {},
   "source": [
    "The feasible domain can be plotted as \n",
    "\n",
    "<img src=\"figure001.png\">\n",
    "<center>\n",
    "The feasible domain in $\\mathbb{R}^2$\n",
    "</center>"
   ]
  },
  {
   "cell_type": "markdown",
   "id": "1c0a2fa2",
   "metadata": {},
   "source": [
    "All possible basic feasible solutions are computed.\n",
    "<center>\n",
    "    Extreme Points in $\\mathbb{R}^{5}$\n",
    "</center>\n",
    "$$\n",
    "\\begin{array}{lll}\n",
    "(0,0,4,12,18), &x_1=0, x_2=0\\\\\n",
    "(0,6,4,0,6),   &x_1=0, x_4=0\\\\\n",
    "(0,9,4,-6,0),  &x_1=0, x_5=0\\\\\n",
    "(2,6,2,0,0),   &x_4=0, x_5=0\\\\\n",
    "(4,0,0,12,6),  &x_2=0, x_3=0\\\\\n",
    "(4,3,0,12,0),  &x_3=0, x_5=0\\\\\n",
    "(4,6,0,0,-6),  &x_3=0, x_4=0\\\\\n",
    "(6,0,-2,6,0),  &x_2=0, x_5=0\\\\\n",
    "\\end{array}\n",
    "$$"
   ]
  },
  {
   "cell_type": "markdown",
   "id": "4532d3b4",
   "metadata": {},
   "source": [
    "The iteration of simplex method is given by \n",
    "$$\n",
    "\\begin{array}{lll}\n",
    "(4,0,0,12,6),  & x_2=0, x_3=0\\\\\n",
    "&\\Downarrow\\\\\n",
    "(4,3,0,12,0),  & x_3=0, x_5=0\\\\\n",
    "&\\Downarrow\\\\\n",
    "(2,6,2,0,0),   & x_4=0, x_5=0\\\\\n",
    "\\end{array}\n",
    "$$"
   ]
  },
  {
   "cell_type": "markdown",
   "id": "d8622ef7",
   "metadata": {},
   "source": [
    "<img src=\"table004003.png\">\n",
    "<center>\n",
    "</center>"
   ]
  },
  {
   "cell_type": "markdown",
   "id": "99165e0e",
   "metadata": {},
   "source": [
    "<img src=\"table004004.png\">\n",
    "<center>\n",
    "</center>"
   ]
  },
  {
   "cell_type": "markdown",
   "id": "3e4162e2",
   "metadata": {},
   "source": [
    "<img src=\"table004005.png\">\n",
    "<center>\n",
    "</center>"
   ]
  },
  {
   "cell_type": "markdown",
   "id": "ca860cfa",
   "metadata": {},
   "source": [
    "<img src=\"table004006.png\">\n",
    "<center>\n",
    "</center>"
   ]
  },
  {
   "cell_type": "markdown",
   "id": "d3111ed2",
   "metadata": {},
   "source": [
    "Original Form:\n",
    "$$\n",
    "\\begin{array}{cccccccccccccccccc}\n",
    "z:   & z & - & 3x_1& - & 5x_2 &   &     &   &     &   &     & = & 0\\\\\n",
    "x_3: &   &   &  x_1&   &      & + & {x_3} &   &     &   &     & = & 4\\\\\n",
    "x_2: &   &   &     & + & {2x_2} &   &     & + & x_4 &   &     & = & 12 \\\\\n",
    "x_5: &   &   & 3x_1& + & {2x_2} &   &     &   &     & + & {x_5} & = & 18\\\\\n",
    "\\end{array}\n",
    "$$\n",
    "\n",
    "Simplified Form\n",
    "$$\n",
    "\\begin{array}{cccccccccccccccccc}\n",
    "z:   & {z} & - & 3x_1& +  & {0x_2} & + &{0x_3} & + & \\displaystyle\\frac{5}{2}x_4    & + & {0x_5} & = & 30\\\\\n",
    "x_3: & {0z}&   &  x_1& +  & {0x_2} & + &{ x_3} &   &                      & + & {0x_5} & = & 4\\\\\n",
    "x_2: & {0z}&   &     & +  & {x_2 } & + &{0x_3} & + & \\displaystyle\\frac{1}{2}x_4    & + & {0x_5} & = & 6 \\\\\n",
    "x_5: & {0z}&   & 3x_1& +  & {0x_2} & + &{0x_3} & -  & x_4                 & + & {x_5 }& = & 6\\\\\n",
    "\\end{array}\n",
    "$$"
   ]
  },
  {
   "cell_type": "markdown",
   "id": "d3bc26f9",
   "metadata": {},
   "source": [
    "<img src=\"table004007.png\">\n",
    "<center>\n",
    "</center>"
   ]
  },
  {
   "cell_type": "markdown",
   "id": "2e9d210d",
   "metadata": {},
   "source": [
    "Suppose $x_1$ and $x_4$ are set to zero. Want to know the values of $z$, $x_2$, $x_3$, $x_5$.\n",
    "\n",
    "Original Form:\n",
    "$$\n",
    "\\begin{array}{cccccccccccccccccc}\n",
    "z:   & z & - & 3x_1& - & 5x_2 &   &     &   &     &   &     & = & 0\\\\\n",
    "x_3: &   &   &  x_1&   &      & + & {x_3} &   &     &   &     & = & 4\\\\\n",
    "x_2: &   &   &     & + & {2x_2} &   &     & + & x_4 &   &     & = & 12 \\\\\n",
    "x_5: &   &   & 3x_1& + & {2x_2} &   &     &   &     & + & {x_5} & = & 18\\\\\n",
    "\\end{array}\n",
    "$$\n",
    "Simplified Form\n",
    "$$\n",
    "\\begin{array}{cccccccccccccccccc}\n",
    "z:   & {z} & - & 3x_1& +  & {0x_2} & + &{0x_3} & + & \\displaystyle\\frac{5}{2}x_4    & + & {0x_5} & = & 30\\\\\n",
    "x_3: & {0z}&   &  x_1& +  & {0x_2} & + &{ x_3} &   &                      & + & {0x_5} & = & 4\\\\\n",
    "x_2: & {0z}&   &     & +  & {x_2 } & + &{0x_3} & + & \\displaystyle\\frac{1}{2}x_4    & + & {0x_5} & = & 6 \\\\\n",
    "x_5: & {0z}&   & 3x_1& +  & {0x_2} & + &{0x_3} & -  & x_4                 & + & {x_5 }& = & 6\\\\\n",
    "\\end{array}\n",
    "$$\n",
    "\n",
    "<ul>\n",
    "  <li> These two systems of linear equations are coincided.\n",
    "  <li> The objective value $30$ is directly obtained from the second system.\n",
    "  <li> We can observe how we reduce the value of $z$.\n",
    "  <li> If we fix $x_4$ by $0$ and increase $x_1$, then there is a convenient way for updating the value $x_1$.\n",
    "      </ul>"
   ]
  },
  {
   "cell_type": "markdown",
   "id": "dc09215b",
   "metadata": {},
   "source": [
    "Matrix Representation for Tabular Form\n",
    "\n",
    "Let\n",
    "$$\n",
    "\\bar{A}=\n",
    "\\left[\n",
    "\\begin{array}{ccc}\n",
    "1 & -{\\bf c}^t & 0\\\\\n",
    "{\\bf 0} & A & {\\bf b}\\\\\n",
    "\\end{array}\n",
    "\\right]\n",
    "=\\left[\n",
    "\\begin{array}{ccccccc}\n",
    "1 & -3 & -5 & 0 & 0 & 0 & 0  \\\\\n",
    "0 & 1  & 0  & 1 & 0 & 0 & 4  \\\\\n",
    "0 & 0  & 2  & 0 & 1 & 0 & 12 \\\\\n",
    "0 & 3  & 2  & 0 & 0 & 1 & 18 \\\\\n",
    "\\end{array}\n",
    "\\right]\\hbox{ and }\n",
    "\\bar{B}=\\left[\n",
    "\\begin{array}{ccc}\n",
    "1 & -{\\bf c}_{B}^t \\\\\n",
    "{\\bf 0} & B\\\\\n",
    "\\end{array}\n",
    "\\right].\n",
    "$$\n",
    "Set\n",
    "$$\n",
    "%\\hbox{ and }\n",
    "B=\\left[\n",
    "\\begin{array}{cccc}\n",
    " 1 & 0 & 0 \\\\\n",
    " 0 & 2 & 0 \\\\\n",
    " 0 & 2 & 1 \\\\\n",
    "\\end{array}\n",
    "\\right]\n",
    "\\hbox{ and }\n",
    "B^{-1}=\\left[\n",
    "\\begin{array}{cccc}\n",
    " 1 & 0 & 0 \\\\\n",
    " 0 & 1/2 & 0 \\\\\n",
    " 0 & -1 & 1 \\\\\n",
    "\\end{array}\n",
    "\\right].\n",
    "$$\n",
    "Then\n",
    "$$\n",
    "\\bar{B}^{-1}=\n",
    "\\left[\n",
    "\\begin{array}{ccc}\n",
    "1 & {\\bf c}_{B}^tB^{-1} \\\\\n",
    "{\\bf 0} & B^{-1}\\\\\n",
    "\\end{array}\n",
    "\\right]=\n",
    "\\left[\n",
    "\\begin{array}{cccc}\n",
    "1  & 0 & 5/2& 0 \\\\\n",
    "0  & 1 & 0 & 0 \\\\\n",
    "0  & 0 & 1/2 & 0 \\\\\n",
    "0  & 0 & -1 & 1 \\\\\n",
    "\\end{array}\n",
    "\\right].\n",
    "$$\n",
    "\n",
    "$$\n",
    "\\bar{B}^{-1}\\bar{A}=\n",
    "\\left[\n",
    "\\begin{array}{ccc}\n",
    "1 & {\\bf c}_{B}^tB^{-1} \\\\\n",
    "{\\bf 0} & B^{-1}\\\\\n",
    "\\end{array}\n",
    "\\right]\n",
    "\\left[\n",
    "\\begin{array}{ccc}\n",
    "1 & -{\\bf c}^t & 0\\\\\n",
    "{\\bf 0} & A & {\\bf b}\\\\\n",
    "\\end{array}\n",
    "\\right]\n",
    "=\n",
    "\\left[\n",
    "\\begin{array}{ccc}\n",
    "1 & -{\\bf c}^t+{\\bf c}_{B}^{t}B^{-1}A & {\\bf c}_{B}^{t}B^{-1}{\\bf b}\\\\\n",
    "{\\bf 0} & B^{-1}A & B^{-1}{\\bf b}\\\\\n",
    "\\end{array}\n",
    "\\right]\n",
    "$$\n",
    "$$\n",
    "=\\left[\n",
    "\\begin{array}{ccccccc}\n",
    "1 & -3 & 0 & 0 & 5/2 & 0 & 30  \\\\\n",
    "0 & 1  & 0  & 1 & 0 & 0 & 4  \\\\\n",
    "0 & 0  & 1  & 0 & 1/2 & 0 & 6 \\\\\n",
    "0 & 3  & 0  & 0 & -1 & 1 & 6 \\\\\n",
    "\\end{array}\n",
    "\\right]({\\hbox{Please verify it by yourself once}})\n",
    "$$"
   ]
  },
  {
   "cell_type": "markdown",
   "id": "bd3b5e71",
   "metadata": {},
   "source": []
  },
  {
   "cell_type": "code",
   "execution_count": 10,
   "id": "2242dffd",
   "metadata": {},
   "outputs": [],
   "source": [
    "import numpy as np\n",
    "import sympy"
   ]
  },
  {
   "cell_type": "markdown",
   "id": "9b574e95",
   "metadata": {},
   "source": [
    "<img src=\"table004003.png\">\n",
    "<center>\n",
    "</center>"
   ]
  },
  {
   "cell_type": "markdown",
   "id": "65aee866",
   "metadata": {},
   "source": [
    "$$\n",
    "(P)\\begin{array}{rl}\n",
    "\\max & 3x_1+5x_2\\\\\n",
    "s.t.   & x_1+x_3=4\\\\\n",
    "       & 2x_2+x_4=12\\\\\n",
    "       & 3x_1+2x_2+x_5=18\\\\\n",
    "       & x_1,x_2,x_3,x_4,x_5 \\geq 0\\\\\n",
    "\\end{array}\n",
    "$$"
   ]
  },
  {
   "cell_type": "markdown",
   "id": "3034656e",
   "metadata": {},
   "source": [
    "Declare a numpy array c=np.zeros((n,1)) to store the cost vector \n",
    "$$\n",
    "\\left[\\begin{array}{c}\n",
    "3\\\\\n",
    "5\\\\\n",
    "0\\\\\n",
    "0\\\\\n",
    "0\\\\\n",
    "\\end{array}\n",
    "\\right]\n",
    "$$"
   ]
  },
  {
   "cell_type": "code",
   "execution_count": 11,
   "id": "bb61d26c",
   "metadata": {},
   "outputs": [
    {
     "name": "stdout",
     "output_type": "stream",
     "text": [
      "[[3.]\n",
      " [5.]\n",
      " [0.]\n",
      " [0.]\n",
      " [0.]]\n"
     ]
    }
   ],
   "source": [
    "n=5\n",
    "c=np.zeros((n,1))\n",
    "c[0,0]=3\n",
    "c[1,0]=5\n",
    "c[2,0]=0\n",
    "c[3,0]=0\n",
    "c[4,0]=0\n",
    "print(c)"
   ]
  },
  {
   "cell_type": "markdown",
   "id": "d99093b1",
   "metadata": {},
   "source": [
    "Declare a numpy array b=np.zeros((m,1)) to store the right-hand-side vector  \n",
    "$$\n",
    "\\left[\\begin{array}{c}\n",
    "4\\\\\n",
    "12\\\\\n",
    "18\\\\\n",
    "\\end{array}\n",
    "\\right]\n",
    "$$"
   ]
  },
  {
   "cell_type": "code",
   "execution_count": 12,
   "id": "7daa8228",
   "metadata": {},
   "outputs": [
    {
     "name": "stdout",
     "output_type": "stream",
     "text": [
      "[[ 4.]\n",
      " [12.]\n",
      " [18.]]\n"
     ]
    }
   ],
   "source": [
    "m=3\n",
    "b=np.zeros((m,1))\n",
    "b[0,0]=4\n",
    "b[1,0]=12\n",
    "b[2,0]=18\n",
    "#c[3,0]=0\n",
    "#c[4,0]=0\n",
    "print(b)"
   ]
  },
  {
   "cell_type": "markdown",
   "id": "efe98901",
   "metadata": {},
   "source": [
    "Declare a numpy array A=np.zeros((m,n)) to store the constraint matrix\n",
    "\n",
    "$$\n",
    "\\left[\\begin{array}{c}\n",
    "1 & 0 & 1 & 0 & 0\\\\\n",
    "0 & 2 & 0 & 1 & 0\\\\\n",
    "3 & 2 & 0 & 0 & 1\\\\\n",
    "\\end{array}\n",
    "\\right]\n",
    "$$"
   ]
  },
  {
   "cell_type": "code",
   "execution_count": 13,
   "id": "6b807a0e",
   "metadata": {},
   "outputs": [
    {
     "name": "stdout",
     "output_type": "stream",
     "text": [
      "[[1. 0. 1. 0. 0.]\n",
      " [0. 2. 0. 1. 0.]\n",
      " [3. 2. 0. 0. 1.]]\n"
     ]
    }
   ],
   "source": [
    "m,n=3,5\n",
    "A=np.zeros((m,n))\n",
    "A[0,0]=1\n",
    "A[1,0]=0\n",
    "A[2,0]=3\n",
    "\n",
    "A[0,1]=0\n",
    "A[1,1]=2\n",
    "A[2,1]=2\n",
    "\n",
    "A[0,2]=1\n",
    "A[1,2]=0\n",
    "A[2,2]=0\n",
    "\n",
    "A[0,3]=0\n",
    "A[1,3]=1\n",
    "A[2,3]=0\n",
    "\n",
    "A[0,4]=0\n",
    "A[1,4]=0\n",
    "A[2,4]=1\n",
    "\n",
    "#c[3,0]=0\n",
    "#c[4,0]=0\n",
    "print(A)"
   ]
  },
  {
   "cell_type": "code",
   "execution_count": 14,
   "id": "457c73c1",
   "metadata": {},
   "outputs": [
    {
     "name": "stdout",
     "output_type": "stream",
     "text": [
      "[[1 0 1 0 0]\n",
      " [0 2 0 1 0]\n",
      " [3 2 0 0 1]]\n"
     ]
    }
   ],
   "source": [
    "A=np.array([[1,0,1,0,0],[0,2,0,1,0],[3,2,0,0,1]])\n",
    "print(A)"
   ]
  },
  {
   "cell_type": "markdown",
   "id": "87d7384c",
   "metadata": {},
   "source": [
    "In order to obtain the matrix in \n",
    "<img src=\"table004003.png\">\n",
    "Use $A$, $b$, $c$ to construct the augmented matrix:\n",
    "$$\n",
    "\\left[\n",
    "\\begin{array}{ccccccc}\n",
    "1 & -3 & -5 & 0 & 0 & 0 & 0  \\\\\n",
    "0 & 1  & 0  & 1 & 0 & 0 & 4  \\\\\n",
    "0 & 0  & 2  & 0 & 1 & 0 & 12 \\\\\n",
    "0 & 3  & 2  & 0 & 0 & 1 & 18 \\\\\n",
    "\\end{array}\n",
    "\\right]\n",
    "$$\n",
    "\n",
    "You may need the following link:\n",
    "\n",
    "<a href=\"https://numpy.org/doc/stable/reference/generated/numpy.vstack.html\" target=\"_blank\" title=\"numpy.hstack\">numpy.hstack</a>\n",
    "\n",
    "<a href=\"https://numpy.org/doc/stable/reference/generated/numpy.vstack.html\" target=\"_blank\" title=\"numpy.vstack\">numpy.vstack</a>"
   ]
  },
  {
   "cell_type": "code",
   "execution_count": 15,
   "id": "37207776",
   "metadata": {},
   "outputs": [
    {
     "name": "stdout",
     "output_type": "stream",
     "text": [
      "[[ 1. -3. -5. -0. -0. -0.  0.]\n",
      " [ 0.  1.  0.  1.  0.  0.  4.]\n",
      " [ 0.  0.  2.  0.  1.  0. 12.]\n",
      " [ 0.  3.  2.  0.  0.  1. 18.]]\n"
     ]
    }
   ],
   "source": [
    "A0=np.hstack((np.array([[1]]),-c.transpose(),np.array([[0]])))\n",
    "A1=np.hstack((np.zeros((3,1)),A,b))\n",
    "barA=np.vstack((A0,A1))\n",
    "print(barA)"
   ]
  },
  {
   "cell_type": "markdown",
   "id": "71844261",
   "metadata": {},
   "source": [
    "We want to get the $1_{st}$, $4_{th}$, $5_{th}$, $6_{th}$ colunmns of  \n",
    "$$\\left[\n",
    "\\begin{array}{ccccccc}\n",
    "1 & -3 & -5 & 0 & 0 & 0 & 0  \\\\\n",
    "0 & 1  & 0  & 1 & 0 & 0 & 4  \\\\\n",
    "0 & 0  & 2  & 0 & 1 & 0 & 12 \\\\\n",
    "0 & 3  & 2  & 0 & 0 & 1 & 18 \\\\\n",
    "\\end{array}\n",
    "\\right]$$\n",
    "in order to produce the basis matrix \n",
    "$$\n",
    "B=\\left[\n",
    "\\begin{array}{cccc}\n",
    "1  & 0 & 0& 0 \\\\\n",
    "0  & 1 & 0 & 0 \\\\\n",
    "0  & 0 & 1 & 0 \\\\\n",
    "0  & 0 & 0 & 1 \\\\\n",
    "\\end{array}\n",
    "\\right]\n",
    "$$"
   ]
  },
  {
   "cell_type": "code",
   "execution_count": 16,
   "id": "6af1a18c",
   "metadata": {},
   "outputs": [
    {
     "name": "stdout",
     "output_type": "stream",
     "text": [
      "[[ 1. -0. -0. -0.]\n",
      " [ 0.  1.  0.  0.]\n",
      " [ 0.  0.  1.  0.]\n",
      " [ 0.  0.  0.  1.]]\n",
      "[[ 1. -3. -5. -0. -0. -0.  0.]\n",
      " [ 0.  1.  0.  1.  0.  0.  4.]\n",
      " [ 0.  0.  2.  0.  1.  0. 12.]\n",
      " [ 0.  3.  2.  0.  0.  1. 18.]]\n"
     ]
    }
   ],
   "source": [
    "B_index=[0,3,4,5]\n",
    "B=barA[:,B_index]\n",
    "print(B)\n",
    "print(barA)"
   ]
  },
  {
   "cell_type": "markdown",
   "id": "680c1b1c",
   "metadata": {},
   "source": [
    "Transfer \n",
    "$$\n",
    "\\left[\n",
    "\\begin{array}{ccccccc}\n",
    "1 & -3 & -5 & 0 & 0 & 0 & 0  \\\\\n",
    "0 & 1  & 0  & 1 & 0 & 0 & 4  \\\\\n",
    "0 & 0  & 2  & 0 & 1 & 0 & 12 \\\\\n",
    "0 & 3  & 2  & 0 & 0 & 1 & 18 \\\\\n",
    "\\end{array}\n",
    "\\right]\n",
    "$$\n",
    "into the following form:\n",
    "$$\n",
    "\\left[\n",
    "\\begin{array}{ccccccc}\n",
    "1 & -3 & 0 & 0 & 5/2 & 0 & 30  \\\\\n",
    "0 & 1  & 0  & 1 & 0 & 0 & 4  \\\\\n",
    "0 & 0  & 1  & 0 & 1/2 & 0 & 6 \\\\\n",
    "0 & 3  & 0  & 0 & -1 & 1 & 6 \\\\\n",
    "\\end{array}\n",
    "\\right]\n",
    "$$\n",
    "Then we obtain \n",
    "\n",
    "<img src=\"table004004.png\">\n",
    "<center>\n",
    "</center>"
   ]
  },
  {
   "cell_type": "code",
   "execution_count": 17,
   "id": "49c054cf",
   "metadata": {},
   "outputs": [
    {
     "name": "stdout",
     "output_type": "stream",
     "text": [
      "[[ 1. -0. -5. -0.]\n",
      " [ 0.  1.  0.  0.]\n",
      " [ 0.  0.  2.  0.]\n",
      " [ 0.  0.  2.  1.]]\n",
      "[[ 1.  -3.   0.   0.   2.5  0.  30. ]\n",
      " [ 0.   1.   0.   1.   0.   0.   4. ]\n",
      " [ 0.   0.   1.   0.   0.5  0.   6. ]\n",
      " [ 0.   3.   0.   0.  -1.   1.   6. ]]\n"
     ]
    }
   ],
   "source": [
    "B_index=[0,3,2,5]\n",
    "B=barA[:,B_index]\n",
    "print(B)\n",
    "tabular=np.linalg.inv(B).dot(barA)\n",
    "print(tabular)"
   ]
  },
  {
   "cell_type": "markdown",
   "id": "406ebcd7",
   "metadata": {},
   "source": [
    "<img src=\"table004006.png\">\n",
    "<center>\n",
    "</center>"
   ]
  },
  {
   "cell_type": "code",
   "execution_count": 18,
   "id": "5ff9aa2f",
   "metadata": {},
   "outputs": [
    {
     "name": "stdout",
     "output_type": "stream",
     "text": [
      "[[ 1. -0. -0. -0.]\n",
      " [ 0.  1.  0.  0.]\n",
      " [ 0.  0.  1.  0.]\n",
      " [ 0.  0.  0.  1.]]\n",
      "[[ 1. -3. -5.  0.  0.  0.  0.]\n",
      " [ 0.  1.  0.  1.  0.  0.  4.]\n",
      " [ 0.  0.  2.  0.  1.  0. 12.]\n",
      " [ 0.  3.  2.  0.  0.  1. 18.]]\n",
      "[[ 1. -0. -5. -0.]\n",
      " [ 0.  1.  0.  0.]\n",
      " [ 0.  0.  2.  0.]\n",
      " [ 0.  0.  2.  1.]]\n",
      "[[ 1.  -3.   0.   0.   2.5  0.  30. ]\n",
      " [ 0.   1.   0.   1.   0.   0.   4. ]\n",
      " [ 0.   0.   1.   0.   0.5  0.   6. ]\n",
      " [ 0.   3.   0.   0.  -1.   1.   6. ]]\n"
     ]
    }
   ],
   "source": [
    "B_index=[0,3,4,5]\n",
    "N_index=[1,2]\n",
    "B=barA[:,B_index]\n",
    "print(B)\n",
    "tabular=np.linalg.inv(B).dot(barA)\n",
    "print(tabular)\n",
    "B_index=[0,3,2,5]\n",
    "N_index=[1,4]\n",
    "B=barA[:,B_index]\n",
    "print(B)\n",
    "tabular=np.linalg.inv(B).dot(barA)\n",
    "print(tabular)"
   ]
  },
  {
   "cell_type": "code",
   "execution_count": 19,
   "id": "1b8bca76",
   "metadata": {},
   "outputs": [
    {
     "name": "stdout",
     "output_type": "stream",
     "text": [
      "[[ 1. -0. -5. -3.]\n",
      " [ 0.  1.  0.  1.]\n",
      " [ 0.  0.  2.  0.]\n",
      " [ 0.  0.  2.  3.]]\n",
      "[[ 1.00000000e+00  0.00000000e+00  0.00000000e+00  0.00000000e+00\n",
      "   1.50000000e+00  1.00000000e+00  3.60000000e+01]\n",
      " [ 0.00000000e+00  5.55111512e-17  0.00000000e+00  1.00000000e+00\n",
      "   3.33333333e-01 -3.33333333e-01  2.00000000e+00]\n",
      " [ 0.00000000e+00  0.00000000e+00  1.00000000e+00  0.00000000e+00\n",
      "   5.00000000e-01  0.00000000e+00  6.00000000e+00]\n",
      " [ 0.00000000e+00  1.00000000e+00  0.00000000e+00  0.00000000e+00\n",
      "  -3.33333333e-01  3.33333333e-01  2.00000000e+00]]\n"
     ]
    }
   ],
   "source": [
    "B_index=[0,3,2,1]\n",
    "N_index=[5,4]\n",
    "B=barA[:,B_index]\n",
    "print(B)\n",
    "tabular=np.linalg.inv(B).dot(barA)\n",
    "print(tabular)"
   ]
  },
  {
   "cell_type": "markdown",
   "id": "546e55f0",
   "metadata": {},
   "source": [
    "<img src=\"table004008.png\">\n",
    "<center>\n",
    "</center>"
   ]
  },
  {
   "cell_type": "code",
   "execution_count": 20,
   "id": "9212f000",
   "metadata": {},
   "outputs": [
    {
     "name": "stdout",
     "output_type": "stream",
     "text": [
      "[[ 1.00000000e+00  0.00000000e+00  0.00000000e+00  0.00000000e+00\n",
      "   1.50000000e+00  1.00000000e+00  3.60000000e+01]\n",
      " [ 0.00000000e+00  5.55111512e-17  0.00000000e+00  1.00000000e+00\n",
      "   3.33333333e-01 -3.33333333e-01  2.00000000e+00]\n",
      " [ 0.00000000e+00  0.00000000e+00  1.00000000e+00  0.00000000e+00\n",
      "   5.00000000e-01  0.00000000e+00  6.00000000e+00]\n",
      " [ 0.00000000e+00  1.00000000e+00  0.00000000e+00  0.00000000e+00\n",
      "  -3.33333333e-01  3.33333333e-01  2.00000000e+00]]\n"
     ]
    }
   ],
   "source": [
    "print(tabular)"
   ]
  },
  {
   "cell_type": "code",
   "execution_count": 21,
   "id": "cd2925d8",
   "metadata": {},
   "outputs": [
    {
     "name": "stdout",
     "output_type": "stream",
     "text": [
      "36.00\n"
     ]
    }
   ],
   "source": [
    "i,j=0,6\n",
    "print(\"%.2f\" % tabular[i,j])"
   ]
  },
  {
   "cell_type": "markdown",
   "id": "b21c92ee",
   "metadata": {},
   "source": [
    "<img src=\"table004008.png\">\n",
    "<center>\n",
    "</center>"
   ]
  },
  {
   "cell_type": "code",
   "execution_count": 22,
   "id": "1ca8acdf",
   "metadata": {},
   "outputs": [
    {
     "name": "stdout",
     "output_type": "stream",
     "text": [
      " 1.00  0.00  0.00  0.00  1.50  1.00  36.00  \n",
      " 0.00  0.00  0.00  1.00  0.33  -0.33  2.00  \n",
      " 0.00  0.00  1.00  0.00  0.50  0.00  6.00  \n",
      " 0.00  1.00  0.00  0.00  -0.33  0.33  2.00  \n"
     ]
    }
   ],
   "source": [
    "for i in range(m+1):\n",
    "    for j in range(n+2):\n",
    "        print(\" %.2f \" % tabular[i,j],end=\"\")\n",
    "    print(\" \")"
   ]
  },
  {
   "cell_type": "code",
   "execution_count": 23,
   "id": "d23e3e01",
   "metadata": {},
   "outputs": [
    {
     "name": "stdout",
     "output_type": "stream",
     "text": [
      "[[ 1. -0. -0. -0.]\n",
      " [ 0.  1.  0.  0.]\n",
      " [ 0.  0.  1.  0.]\n",
      " [ 0.  0.  0.  1.]]\n",
      " 1.00  -3.00  -5.00  0.00  0.00  0.00  0.00  \n",
      " 0.00  1.00  0.00  1.00  0.00  0.00  4.00  \n",
      " 0.00  0.00  2.00  0.00  1.00  0.00  12.00  \n",
      " 0.00  3.00  2.00  0.00  0.00  1.00  18.00  \n",
      "[0, 3, 2, 5]\n",
      "[[ 1. -0. -5. -0.]\n",
      " [ 0.  1.  0.  0.]\n",
      " [ 0.  0.  2.  0.]\n",
      " [ 0.  0.  2.  1.]]\n",
      " 1.00  -3.00  0.00  0.00  2.50  0.00  30.00  \n",
      " 0.00  1.00  0.00  1.00  0.00  0.00  4.00  \n",
      " 0.00  0.00  1.00  0.00  0.50  0.00  6.00  \n",
      " 0.00  3.00  0.00  0.00  -1.00  1.00  6.00  \n",
      "[[ 1. -0. -5. -3.]\n",
      " [ 0.  1.  0.  1.]\n",
      " [ 0.  0.  2.  0.]\n",
      " [ 0.  0.  2.  3.]]\n",
      " 1.00  0.00  0.00  0.00  1.50  1.00  36.00  \n",
      " 0.00  0.00  0.00  1.00  0.33  -0.33  2.00  \n",
      " 0.00  0.00  1.00  0.00  0.50  0.00  6.00  \n",
      " 0.00  1.00  0.00  0.00  -0.33  0.33  2.00  \n"
     ]
    }
   ],
   "source": [
    "#############STEP 1#######################\n",
    "\n",
    "B_index=[0,3,4,5]\n",
    "N_index=[1,2]\n",
    "B=barA[:,B_index]\n",
    "print(B)\n",
    "tabular=np.linalg.inv(B).dot(barA)\n",
    "for i in range(m+1):\n",
    "    for j in range(n+2):\n",
    "        print(\" %.2f \" % tabular[i,j],end=\"\")\n",
    "    print(\" \")\n",
    "#############STEP 2#######################\n",
    "B_index=[0,3,2,5]\n",
    "print(B_index)\n",
    "N_index=[1,4]\n",
    "B=barA[:,B_index]\n",
    "print(B)\n",
    "tabular=np.linalg.inv(B).dot(barA)\n",
    "for i in range(m+1):\n",
    "    for j in range(n+2):\n",
    "        print(\" %.2f \" % tabular[i,j],end=\"\")\n",
    "    print(\" \")\n",
    "#############STEP 3#######################\n",
    "B_index=[0,3,2,1]\n",
    "N_index=[5,4]\n",
    "B=barA[:,B_index]\n",
    "print(B)\n",
    "tabular=np.linalg.inv(B).dot(barA)\n",
    "for i in range(m+1):\n",
    "    for j in range(n+2):\n",
    "        print(\" %.2f \" % tabular[i,j],end=\"\")\n",
    "    print(\" \")"
   ]
  },
  {
   "cell_type": "code",
   "execution_count": 24,
   "id": "3b9f52d9",
   "metadata": {},
   "outputs": [
    {
     "name": "stdout",
     "output_type": "stream",
     "text": [
      " 1.00  -3.00  -5.00  0.00  0.00  0.00  0.00  \n",
      " 0.00  1.00  0.00  1.00  0.00  0.00  4.00  \n",
      " 0.00  0.00  2.00  0.00  1.00  0.00  12.00  \n",
      " 0.00  3.00  2.00  0.00  0.00  1.00  18.00  \n",
      "-3.0\n",
      "-5.0\n",
      "0.0\n",
      "0.0\n",
      "0.0\n"
     ]
    }
   ],
   "source": [
    "#############STEP 1#######################\n",
    "B_index=[0,3,4,5]\n",
    "N_index=[1,2]\n",
    "B=barA[:,B_index]\n",
    "#print(B)\n",
    "tabular=np.linalg.inv(B).dot(barA)\n",
    "for i in range(m+1):\n",
    "    for j in range(n+2):\n",
    "        print(\" %.2f \" % tabular[i,j],end=\"\")\n",
    "    print(\" \")\n",
    "for j in range(1,n+1):\n",
    "    print(tabular[0,j])"
   ]
  },
  {
   "cell_type": "code",
   "execution_count": 25,
   "id": "92c11297",
   "metadata": {},
   "outputs": [
    {
     "name": "stdout",
     "output_type": "stream",
     "text": [
      " 1.00  -3.00  -5.00  0.00  0.00  0.00  0.00  \n",
      " 0.00  1.00  0.00  1.00  0.00  0.00  4.00  \n",
      " 0.00  0.00  2.00  0.00  1.00  0.00  12.00  \n",
      " 0.00  3.00  2.00  0.00  0.00  1.00  18.00  \n",
      "-3.0\n",
      "-5.0\n",
      "0.0\n",
      "0.0\n",
      "0.0\n",
      "-5.0 2\n",
      "4\n"
     ]
    }
   ],
   "source": [
    "#############STEP 1#######################\n",
    "B_index=[0,3,4,5]\n",
    "N_index=[1,2]\n",
    "B=barA[:,B_index]\n",
    "#print(B)\n",
    "tabular=np.linalg.inv(B).dot(barA)\n",
    "for i in range(m+1):\n",
    "    for j in range(n+2):\n",
    "        print(\" %.2f \" % tabular[i,j],end=\"\")\n",
    "    print(\" \")\n",
    "minValue=float(\"inf\")\n",
    "p=-1\n",
    "for j in range(1,n+1):\n",
    "    if tabular[0,j]<minValue:\n",
    "        minValue=tabular[0,j]\n",
    "        p=j\n",
    "    print(tabular[0,j])\n",
    "print(minValue,p)\n",
    "\n",
    "minValue=float(\"inf\")\n",
    "q=-1\n",
    "for i in range(1,m+1):\n",
    "    if tabular[i,p]>0:\n",
    "        if (tabular[i,n+1]/tabular[i,p]) < minValue:\n",
    "            minValue = tabular[i,n+1]/tabular[i,p]\n",
    "            q=B_index[i]\n",
    "print(q)"
   ]
  },
  {
   "cell_type": "code",
   "execution_count": 26,
   "id": "7c793840",
   "metadata": {},
   "outputs": [
    {
     "name": "stdout",
     "output_type": "stream",
     "text": [
      "[0, 3, 4, 5]\n",
      "[0, 3, 2, 5]\n"
     ]
    }
   ],
   "source": [
    "print(B_index)\n",
    "l=0\n",
    "while l<len(B_index):\n",
    "    if B_index[l]==q:\n",
    "        B_index[l]=p\n",
    "        break\n",
    "    l=l+1\n",
    "print(B_index)"
   ]
  },
  {
   "cell_type": "code",
   "execution_count": 27,
   "id": "a30b319d",
   "metadata": {
    "scrolled": true
   },
   "outputs": [
    {
     "name": "stdout",
     "output_type": "stream",
     "text": [
      "3/10\n",
      "33/100\n",
      "333/1000\n"
     ]
    }
   ],
   "source": [
    "print(sympy.nsimplify(0.3))\n",
    "print(sympy.nsimplify(0.33))\n",
    "print(sympy.nsimplify(0.333))"
   ]
  },
  {
   "cell_type": "code",
   "execution_count": 39,
   "id": "502ef359",
   "metadata": {
    "scrolled": true
   },
   "outputs": [
    {
     "name": "stdout",
     "output_type": "stream",
     "text": [
      "Basic Vars Z X_1 X_2 X_3 X_4 X_5 RHS  \n",
      "1 -3 0 0 5/2 0 30  \n",
      "x_3 0 1 0 1 0 0 4  \n",
      "x_2 0 0 1 0 1/2 0 6  \n",
      "x_5 0 3 0 0 -1 1 6  \n",
      "-3.0\n",
      "0.0\n",
      "0.0\n",
      "2.5\n",
      "0.0\n",
      "-3.0 1\n",
      "5\n",
      "[0, 3, 2, 1]\n",
      "1 0 0 0 3/2 1 36  \n",
      "0 0 0 1 1/3 -1/3 2  \n",
      "0 0 1 0 1/2 0 6  \n",
      "0 1 0 0 -1/3 1/3 2  \n",
      "0.0\n",
      "0.0\n",
      "0.0\n",
      "1.5\n",
      "1.0\n",
      "0.0 1\n",
      "1\n",
      "[0, 3, 2, 1]\n",
      "1 0 0 0 3/2 1 36  \n",
      "0 0 0 1 1/3 -1/3 2  \n",
      "0 0 1 0 1/2 0 6  \n",
      "0 1 0 0 -1/3 1/3 2  \n",
      "0.0\n",
      "0.0\n",
      "0.0\n",
      "1.5\n",
      "1.0\n",
      "0.0 1\n",
      "1\n",
      "[0, 3, 2, 1]\n"
     ]
    }
   ],
   "source": [
    "#############STEP 1#######################\n",
    "B_index=[0,3,2,5]\n",
    "N_index=[1,2]\n",
    "B=barA[:,B_index]\n",
    "#print(B)\n",
    "tabular=np.linalg.inv(B).dot(barA)\n",
    "print(\"Basic Vars\",end=\" \")\n",
    "print(\"Z\",end=\" \")\n",
    "for i in range(n):\n",
    "    print(\"X_%d\" % (i+1),end=\" \")\n",
    "print(\"RHS\",end=\" \")\n",
    "print(\" \")\n",
    "for i in range(1):\n",
    "    for j in range(n+2):\n",
    "            print(sympy.nsimplify(tabular[i,j]),end=\" \")\n",
    "    print(\" \")\n",
    "for i in range(1,m+1):\n",
    "    print(\"x_%d\" % B_index[i],end=\" \")\n",
    "    for j in range(n+2):\n",
    "            print(sympy.nsimplify(tabular[i,j]),end=\" \")\n",
    "    print(\" \")\n",
    "minValue=float(\"inf\")\n",
    "p=-1\n",
    "for j in range(1,n+1):\n",
    "    if tabular[0,j]<minValue:\n",
    "        minValue=tabular[0,j]\n",
    "        p=j\n",
    "    print(tabular[0,j])\n",
    "print(minValue,p)\n",
    "\n",
    "minValue=float(\"inf\")\n",
    "q=-1\n",
    "for i in range(1,m+1):\n",
    "    if tabular[i,p]>0:\n",
    "        if (tabular[i,n+1]/tabular[i,p]) < minValue:\n",
    "            minValue = tabular[i,n+1]/tabular[i,p]\n",
    "            q=B_index[i]\n",
    "print(q)\n",
    "l=0\n",
    "while l<len(B_index):\n",
    "    if B_index[l]==q:\n",
    "        B_index[l]=p\n",
    "        break\n",
    "    l=l+1\n",
    "print(B_index)\n",
    "#############STEP 2#######################\n",
    "#B_index=[0,3,4,5]\n",
    "#N_index=[1,2]\n",
    "B=barA[:,B_index]\n",
    "#print(B)\n",
    "tabular=np.linalg.inv(B).dot(barA)\n",
    "for i in range(m+1):\n",
    "    for j in range(n+2):\n",
    "        #print(\" %.2f \" % tabular[i,j],end=\"\")\n",
    "        if abs(tabular[i,j])<1e-8:\n",
    "            print(\"0\",end=\" \")\n",
    "        else:\n",
    "            print(sympy.nsimplify(tabular[i,j]),end=\" \")\n",
    "    print(\" \")\n",
    "minValue=float(\"inf\")\n",
    "p=-1\n",
    "for j in range(1,n+1):\n",
    "    if tabular[0,j]<minValue:\n",
    "        minValue=tabular[0,j]\n",
    "        p=j\n",
    "    print(tabular[0,j])\n",
    "print(minValue,p)\n",
    "\n",
    "minValue=float(\"inf\")\n",
    "q=-1\n",
    "for i in range(1,m+1):\n",
    "    if tabular[i,p]>0:\n",
    "        if (tabular[i,n+1]/tabular[i,p]) < minValue:\n",
    "            minValue = tabular[i,n+1]/tabular[i,p]\n",
    "            q=B_index[i]\n",
    "print(q)\n",
    "l=0\n",
    "while l<len(B_index):\n",
    "    if B_index[l]==q:\n",
    "        B_index[l]=p\n",
    "        break\n",
    "    l=l+1\n",
    "print(B_index)\n",
    "#############STEP 3#######################\n",
    "#B_index=[0,3,2,5]\n",
    "#N_index=[1,2]\n",
    "B=barA[:,B_index]\n",
    "#print(B)\n",
    "tabular=np.linalg.inv(B).dot(barA)\n",
    "for i in range(m+1):\n",
    "    for j in range(n+2):\n",
    "        #print(\" %.2f \" % tabular[i,j],end=\"\")\n",
    "        if abs(tabular[i,j])<1e-8:\n",
    "            print(\"0\",end=\" \")\n",
    "        else:\n",
    "            print(sympy.nsimplify(tabular[i,j]),end=\" \")\n",
    "    print(\" \")\n",
    "minValue=float(\"inf\")\n",
    "p=-1\n",
    "for j in range(1,n+1):\n",
    "    if tabular[0,j]<minValue:\n",
    "        minValue=tabular[0,j]\n",
    "        p=j\n",
    "    print(tabular[0,j])\n",
    "print(minValue,p)\n",
    "\n",
    "minValue=float(\"inf\")\n",
    "q=-1\n",
    "for i in range(1,m+1):\n",
    "    if tabular[i,p]>0:\n",
    "        if (tabular[i,n+1]/tabular[i,p]) < minValue:\n",
    "            minValue = tabular[i,n+1]/tabular[i,p]\n",
    "            q=B_index[i]\n",
    "print(q)\n",
    "l=0\n",
    "while l<len(B_index):\n",
    "    if B_index[l]==q:\n",
    "        B_index[l]=p\n",
    "        break\n",
    "    l=l+1\n",
    "print(B_index)"
   ]
  },
  {
   "cell_type": "code",
   "execution_count": 43,
   "id": "d019dc11",
   "metadata": {},
   "outputs": [
    {
     "name": "stdout",
     "output_type": "stream",
     "text": [
      "<meta name=\"viewport\" content=\"width=device-width, initial-scale=1\">\n",
      "<link href=\"https://cdn.jsdelivr.net/npm/bootstrap@5.2.3/dist/css/bootstrap.min.css\" rel=\"stylesheet\">\n",
      "<script src=\"https://cdn.jsdelivr.net/npm/bootstrap@5.2.3/dist/js/bootstrap.bundle.min.js\"></script>\n",
      "<table class=table table-bordered table-hover>\n",
      "<tbody>\n",
      "<tr>\n",
      "<th style='text-align:center'>Basic Vars</th> <th style='text-align:center'>Z</th> <th style='text-align:center'>X_1</th> <th style='text-align:center'>X_2</th> <th style='text-align:center'>X_3</th> <th style='text-align:center'>X_4</th> <th style='text-align:center'>X_5</th> <th style='text-align:center'>RHS</th>  \n",
      "</tr>\n",
      "<tr>\n",
      "<td> 1 </td> <td> -3 </td> <td> 0 </td> <td> 0 </td> <td> 5/2 </td> <td> 0 </td> <td> 30 </td>  \n",
      "</tr>\n",
      "<tr>\n",
      "<td>x_3</td> <td> 0 </td> <td> 1 </td> <td> 0 </td> <td> 1 </td> <td> 0 </td> <td> 0 </td> <td> 4 </td>  \n",
      "</tr>\n",
      "<tr>\n",
      "<td>x_2</td> <td> 0 </td> <td> 0 </td> <td> 1 </td> <td> 0 </td> <td> 1/2 </td> <td> 0 </td> <td> 6 </td>  \n",
      "</tr>\n",
      "<tr>\n",
      "<td>x_5</td> <td> 0 </td> <td> 3 </td> <td> 0 </td> <td> 0 </td> <td> -1 </td> <td> 1 </td> <td> 6 </td>  \n",
      "</tr>\n",
      "</tbody>\n",
      "</table>\n",
      "-3.0\n",
      "0.0\n",
      "0.0\n",
      "2.5\n",
      "0.0\n",
      "-3.0 1\n",
      "5\n",
      "[0, 3, 2, 1]\n"
     ]
    }
   ],
   "source": [
    "#############STEP 1#######################\n",
    "print(\"<meta name=\\\"viewport\\\" content=\\\"width=device-width, initial-scale=1\\\">\")\n",
    "print(\"<link href=\\\"https://cdn.jsdelivr.net/npm/bootstrap@5.2.3/dist/css/bootstrap.min.css\\\" rel=\\\"stylesheet\\\">\")\n",
    "print(\"<script src=\\\"https://cdn.jsdelivr.net/npm/bootstrap@5.2.3/dist/js/bootstrap.bundle.min.js\\\"></script>\")\n",
    "B_index=[0,3,2,5]\n",
    "N_index=[1,2]\n",
    "B=barA[:,B_index]\n",
    "#print(B)\n",
    "tabular=np.linalg.inv(B).dot(barA)\n",
    "print(\"<table class=table table-bordered table-hover>\")\n",
    "print(\"<tbody>\")\n",
    "print(\"<tr>\")\n",
    "print(\"<th style='text-align:center'>Basic Vars</th>\",end=\" \")\n",
    "print(\"<th style='text-align:center'>Z</th>\",end=\" \")\n",
    "for i in range(n):\n",
    "    print(\"<th style='text-align:center'>X_%d</th>\" % (i+1),end=\" \")\n",
    "print(\"<th style='text-align:center'>RHS</th>\",end=\" \")\n",
    "print(\" \")\n",
    "print(\"</tr>\")\n",
    "print(\"<tr>\")\n",
    "for i in range(1):\n",
    "    #print(\"<td>Z</td>=\")\n",
    "    for j in range(n+2):\n",
    "            print(\"<td>\",sympy.nsimplify(tabular[i,j]),\"</td>\",end=\" \")\n",
    "    print(\" \")\n",
    "    print(\"</tr>\")\n",
    "\n",
    "for i in range(1,m+1):\n",
    "    print(\"<tr>\")\n",
    "    print(\"<td>x_%d</td>\" % B_index[i],end=\" \")\n",
    "    for j in range(n+2):\n",
    "            print(\"<td>\",sympy.nsimplify(tabular[i,j]),\"</td>\",end=\" \")\n",
    "    print(\" \")\n",
    "    print(\"</tr>\")\n",
    "print(\"</tbody>\")\n",
    "print(\"</table>\")\n",
    "minValue=float(\"inf\")\n",
    "p=-1\n",
    "for j in range(1,n+1):\n",
    "    if tabular[0,j]<minValue:\n",
    "        minValue=tabular[0,j]\n",
    "        p=j\n",
    "    print(tabular[0,j])\n",
    "print(minValue,p)\n",
    "\n",
    "minValue=float(\"inf\")\n",
    "q=-1\n",
    "for i in range(1,m+1):\n",
    "    if tabular[i,p]>0:\n",
    "        if (tabular[i,n+1]/tabular[i,p]) < minValue:\n",
    "            minValue = tabular[i,n+1]/tabular[i,p]\n",
    "            q=B_index[i]\n",
    "print(q)\n",
    "l=0\n",
    "while l<len(B_index):\n",
    "    if B_index[l]==q:\n",
    "        B_index[l]=p\n",
    "        break\n",
    "    l=l+1\n",
    "print(B_index)"
   ]
  },
  {
   "cell_type": "markdown",
   "id": "0e2ee4e5",
   "metadata": {},
   "source": [
    "<!DOCTYPE html>\n",
    "<!DOCTYPE html>\n",
    "<html lang=\"en\">\n",
    "<head>\n",
    "  <title>Bootstrap Example</title>\n",
    "  <meta charset=\"utf-8\">\n",
    "  <meta name=\"viewport\" content=\"width=device-width, initial-scale=1\">\n",
    "  <link href=\"https://cdn.jsdelivr.net/npm/bootstrap@5.2.3/dist/css/bootstrap.min.css\" rel=\"stylesheet\">\n",
    "  <script src=\"https://cdn.jsdelivr.net/npm/bootstrap@5.2.3/dist/js/bootstrap.bundle.min.js\"></script>\n",
    "</head>\n",
    "<body>\n",
    "\n",
    "<div class=\"container mt-3\">\n",
    "  <h2>Tabular</h2>\n",
    "  <p>hehe:</p>              \n",
    "  <table class=\"table table-bordered table-hover\">     \n",
    "      <tr>\n",
    "        <th>Basic Vars </th><th> Z </th><th> x_1 </th><th> x_2 </th><th> x_3 </th><th> x_4 </th><th> x_5 </th><th> RHS </th>\n",
    "      </tr>\n",
    "      <tr>\n",
    "      \t<td>Z </td> <td>1 </td> <td>-3 </td> <td>0 </td> <td>0 </td> <td>5/2 </td> <td>0 </td> <td>30 </td>\n",
    "      <tr> \n",
    "      <tr>\n",
    "<td>x_3 </td> <td>0 </td> <td>1 </td> <td>0 </td> <td>1 </td> <td>0 </td> <td>0 </td> <td>4 </td>\n",
    "</tr>\n",
    "      <tr>\n",
    "<td>x_2 </td> <td>0</td> <td> 0</td> <td> 1</td> <td> 0</td> <td> 1/2</td> <td> 0 </td> <td>6  </td>\n",
    "</tr>\n",
    "      <tr>\n",
    "<td>x_5</td> <td> 0 </td> <td>3</td> <td> 0</td> <td> 0</td> <td> -1</td> <td> 1</td> <td> 6  </td>\n",
    "      </tr>\n",
    "      \n",
    "   \n",
    "  </table>\n",
    "</div>\n",
    "\n",
    "</body>\n",
    "</html>\n"
   ]
  },
  {
   "cell_type": "markdown",
   "id": "6c9c280e",
   "metadata": {},
   "source": []
  },
  {
   "cell_type": "markdown",
   "id": "205d4bc6",
   "metadata": {},
   "source": [
    "<img src=\"NO1219.jpg\">"
   ]
  },
  {
   "cell_type": "code",
   "execution_count": null,
   "id": "4fe5d1d5",
   "metadata": {},
   "outputs": [],
   "source": []
  }
 ],
 "metadata": {
  "kernelspec": {
   "display_name": "Python 3",
   "language": "python",
   "name": "python3"
  },
  "language_info": {
   "codemirror_mode": {
    "name": "ipython",
    "version": 3
   },
   "file_extension": ".py",
   "mimetype": "text/x-python",
   "name": "python",
   "nbconvert_exporter": "python",
   "pygments_lexer": "ipython3",
   "version": "3.8.8"
  }
 },
 "nbformat": 4,
 "nbformat_minor": 5
}
