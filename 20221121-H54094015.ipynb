{
 "cells": [
  {
   "cell_type": "code",
   "execution_count": 61,
   "id": "621a241e",
   "metadata": {},
   "outputs": [
    {
     "data": {
      "text/plain": [
       "array([1, 2, 3, 4, 5, 6])"
      ]
     },
     "execution_count": 61,
     "metadata": {},
     "output_type": "execute_result"
    }
   ],
   "source": [
    "import numpy as np\n",
    "A=[[1,-2,-1,0],[-1,-1,0,-1]]\n",
    "b=[[-4],[-4]]\n",
    "c=[[-1],[-3],[0],[0]]\n",
    "A=np.array(A)\n",
    "b=np.array(b)\n",
    "c=np.array(c)\n",
    "\n",
    "x0,y0,s0=[[1],[2],[3],[4]],[[9],[10]],[[5],[6],[7],[8]]\n",
    "\n",
    "a = np.array((1,2,3))\n",
    "b = np.array((4,5,6))\n",
    "np.hstack((a,b))"
   ]
  },
  {
   "cell_type": "code",
   "execution_count": 62,
   "id": "9168b2ec",
   "metadata": {},
   "outputs": [
    {
     "data": {
      "text/plain": [
       "array([1, 2, 3, 4, 5, 6])"
      ]
     },
     "execution_count": 62,
     "metadata": {},
     "output_type": "execute_result"
    }
   ],
   "source": [
    "a = np.array((1,2,3))\n",
    "b = np.array((4,5,6))\n",
    "np.hstack((a,b))"
   ]
  },
  {
   "cell_type": "code",
   "execution_count": 63,
   "id": "2b77e4c5",
   "metadata": {},
   "outputs": [
    {
     "data": {
      "text/plain": [
       "array([[1, 2, 3],\n",
       "       [4, 5, 6]])"
      ]
     },
     "execution_count": 63,
     "metadata": {},
     "output_type": "execute_result"
    }
   ],
   "source": [
    "a = np.array([1, 2, 3])\n",
    "b = np.array([4, 5, 6])\n",
    "np.vstack((a,b))"
   ]
  },
  {
   "cell_type": "code",
   "execution_count": 64,
   "id": "09431514",
   "metadata": {},
   "outputs": [
    {
     "data": {
      "text/plain": [
       "array([[0., 0.],\n",
       "       [0., 0.]])"
      ]
     },
     "execution_count": 64,
     "metadata": {},
     "output_type": "execute_result"
    }
   ],
   "source": [
    "np.zeros((2, 2))"
   ]
  },
  {
   "cell_type": "code",
   "execution_count": 65,
   "id": "ec2e9f0f",
   "metadata": {},
   "outputs": [
    {
     "data": {
      "text/plain": [
       "array([[0., 0., 0., 0.],\n",
       "       [0., 0., 0., 0.],\n",
       "       [0., 0., 0., 0.],\n",
       "       [0., 0., 0., 0.]])"
      ]
     },
     "execution_count": 65,
     "metadata": {},
     "output_type": "execute_result"
    }
   ],
   "source": [
    "np.zeros((4, 4))"
   ]
  },
  {
   "cell_type": "code",
   "execution_count": 66,
   "id": "4d455168",
   "metadata": {},
   "outputs": [
    {
     "data": {
      "text/plain": [
       "array([[ 1, -1],\n",
       "       [-2, -1],\n",
       "       [-1,  0],\n",
       "       [ 0, -1]])"
      ]
     },
     "execution_count": 66,
     "metadata": {},
     "output_type": "execute_result"
    }
   ],
   "source": [
    "A.transpose()"
   ]
  },
  {
   "cell_type": "code",
   "execution_count": 67,
   "id": "d45166ce",
   "metadata": {},
   "outputs": [
    {
     "data": {
      "text/plain": [
       "array([[1., 0., 0., 0.],\n",
       "       [0., 1., 0., 0.],\n",
       "       [0., 0., 1., 0.],\n",
       "       [0., 0., 0., 1.]])"
      ]
     },
     "execution_count": 67,
     "metadata": {},
     "output_type": "execute_result"
    }
   ],
   "source": [
    "np.identity(4)"
   ]
  },
  {
   "cell_type": "code",
   "execution_count": 68,
   "id": "d438eb9a",
   "metadata": {},
   "outputs": [
    {
     "data": {
      "text/plain": [
       "array([[5, 0, 0, 0],\n",
       "       [0, 6, 0, 0],\n",
       "       [0, 0, 7, 0],\n",
       "       [0, 0, 0, 8]])"
      ]
     },
     "execution_count": 68,
     "metadata": {},
     "output_type": "execute_result"
    }
   ],
   "source": [
    "s0=np.array(s0)\n",
    "np.diag(s0[:,0])"
   ]
  },
  {
   "cell_type": "code",
   "execution_count": 69,
   "id": "bb272b82",
   "metadata": {},
   "outputs": [
    {
     "data": {
      "text/plain": [
       "array([[ 1., -2., -1.,  0.,  0.,  0.],\n",
       "       [-1., -1.,  0., -1.,  0.,  0.]])"
      ]
     },
     "execution_count": 69,
     "metadata": {},
     "output_type": "execute_result"
    }
   ],
   "source": [
    "np.hstack((A,np.zeros((2, 2))))"
   ]
  },
  {
   "cell_type": "code",
   "execution_count": 70,
   "id": "cb7a4f84",
   "metadata": {},
   "outputs": [
    {
     "data": {
      "text/plain": [
       "array([[ 0.,  0.,  0.,  0.,  1., -1.],\n",
       "       [ 0.,  0.,  0.,  0., -2., -1.],\n",
       "       [ 0.,  0.,  0.,  0., -1.,  0.],\n",
       "       [ 0.,  0.,  0.,  0.,  0., -1.]])"
      ]
     },
     "execution_count": 70,
     "metadata": {},
     "output_type": "execute_result"
    }
   ],
   "source": [
    "np.hstack((np.zeros((4, 4)),A.transpose()))"
   ]
  },
  {
   "cell_type": "code",
   "execution_count": 71,
   "id": "385c12bb",
   "metadata": {},
   "outputs": [
    {
     "data": {
      "text/plain": [
       "array([[ 1., -2., -1.,  0.,  0.,  0.],\n",
       "       [-1., -1.,  0., -1.,  0.,  0.],\n",
       "       [ 0.,  0.,  0.,  0.,  1., -1.],\n",
       "       [ 0.,  0.,  0.,  0., -2., -1.],\n",
       "       [ 0.,  0.,  0.,  0., -1.,  0.],\n",
       "       [ 0.,  0.,  0.,  0.,  0., -1.]])"
      ]
     },
     "execution_count": 71,
     "metadata": {},
     "output_type": "execute_result"
    }
   ],
   "source": [
    "np.vstack((np.hstack((A,np.zeros((2, 2)))),np.hstack((np.zeros((4, 4)),A.transpose()))))"
   ]
  },
  {
   "cell_type": "code",
   "execution_count": 72,
   "id": "1f30fb15",
   "metadata": {},
   "outputs": [
    {
     "name": "stdout",
     "output_type": "stream",
     "text": [
      "[[5 0 0 0]\n",
      " [0 6 0 0]\n",
      " [0 0 7 0]\n",
      " [0 0 0 8]]\n"
     ]
    }
   ],
   "source": [
    "s0=np.array(s0)\n",
    "S=np.diag(s0[:,0])\n",
    "print(S)"
   ]
  },
  {
   "cell_type": "code",
   "execution_count": 73,
   "id": "c486439e",
   "metadata": {},
   "outputs": [
    {
     "data": {
      "text/plain": [
       "array([[1., 0., 0., 0.],\n",
       "       [0., 1., 0., 0.],\n",
       "       [0., 0., 1., 0.],\n",
       "       [0., 0., 0., 1.]])"
      ]
     },
     "execution_count": 73,
     "metadata": {},
     "output_type": "execute_result"
    }
   ],
   "source": [
    "np.identity(4)"
   ]
  },
  {
   "cell_type": "code",
   "execution_count": 74,
   "id": "e9c47801",
   "metadata": {},
   "outputs": [
    {
     "name": "stdout",
     "output_type": "stream",
     "text": [
      "[[1 0 0 0]\n",
      " [0 2 0 0]\n",
      " [0 0 3 0]\n",
      " [0 0 0 4]]\n"
     ]
    }
   ],
   "source": [
    "x0=np.array(x0)\n",
    "X=np.diag(x0[:,0])\n",
    "print(X)"
   ]
  },
  {
   "cell_type": "code",
   "execution_count": 85,
   "id": "9a0fcdcf",
   "metadata": {},
   "outputs": [],
   "source": [
    "A1=np.hstack((A,np.zeros((2, 2)),np.zeros((2, 4))))\n",
    "A2=np.hstack((np.zeros((4, 4)),A.transpose(),np.identity(4)))\n",
    "A3=np.hstack((S,np.zeros((4, 2)),X))\n",
    "barA=np.vstack((A1,A2,A3))"
   ]
  },
  {
   "cell_type": "code",
   "execution_count": 86,
   "id": "c0493157",
   "metadata": {},
   "outputs": [
    {
     "name": "stdout",
     "output_type": "stream",
     "text": [
      "[[ 1]\n",
      " [ 2]\n",
      " [ 3]\n",
      " [ 4]\n",
      " [ 9]\n",
      " [10]\n",
      " [ 5]\n",
      " [ 6]\n",
      " [ 7]\n",
      " [ 8]]\n"
     ]
    }
   ],
   "source": [
    "x0=np.array(x0)\n",
    "y0=np.array(y0)\n",
    "s0=np.array(s0)\n",
    "solution=np.vstack((x0,y0,s0))\n",
    "print(solution)"
   ]
  },
  {
   "cell_type": "code",
   "execution_count": 87,
   "id": "8e2a4a2c",
   "metadata": {},
   "outputs": [],
   "source": [
    "A=[[1,-2,-1,0],[-1,-1,0,-1]]\n",
    "b=[[-4],[-4]]\n",
    "c=[[-1],[-3],[0],[0]]\n",
    "A=np.array(A)\n",
    "b=np.array(b)\n",
    "c=np.array(c)\n",
    "\n",
    "x0,y0,s0=[[1],[2],[3],[4]],[[9],[10]],[[5],[6],[7],[8]]"
   ]
  },
  {
   "cell_type": "code",
   "execution_count": 88,
   "id": "0d28f451",
   "metadata": {},
   "outputs": [
    {
     "name": "stdout",
     "output_type": "stream",
     "text": [
      "[[ 2.]\n",
      " [ 3.]\n",
      " [ 5.]\n",
      " [31.]\n",
      " [16.]\n",
      " [18.]\n",
      " [95.]\n",
      " [88.]\n",
      " [79.]\n",
      " [68.]]\n"
     ]
    }
   ],
   "source": [
    "x0=np.array(x0)\n",
    "y0=np.array(y0)\n",
    "s0=np.array(s0)\n",
    "e=np.ones((4,1))\n",
    "X=np.diag(x0[:,0])\n",
    "S=np.diag(s0[:,0])\n",
    "mu=100\n",
    "r1=b-A.dot(x0)\n",
    "r2=c-A.transpose().dot(y0)+s0\n",
    "r3=mu*e-X.dot(S).dot(e)\n",
    "residual=np.vstack((r1,r2,r3))\n",
    "print(residual)"
   ]
  },
  {
   "cell_type": "code",
   "execution_count": 95,
   "id": "8162e704",
   "metadata": {},
   "outputs": [],
   "source": [
    "NewtonDirection=np.linalg.inv(barA).dot(residual)"
   ]
  },
  {
   "cell_type": "code",
   "execution_count": 104,
   "id": "ea664d7b",
   "metadata": {},
   "outputs": [
    {
     "name": "stdout",
     "output_type": "stream",
     "text": [
      "[[  -3.04145082]\n",
      " [   3.88207587]\n",
      " [ -82.1045886 ]\n",
      " [ -10.48143056]\n",
      " [ 131.45394143]\n",
      " [  16.45480467]\n",
      " [-304.98635021]\n",
      " [ 187.65996051]\n",
      " [ 414.60935106]\n",
      " [ 132.4922164 ]]\n"
     ]
    }
   ],
   "source": [
    "solution=solution+np.linalg.inv(barA).dot(solution)\n",
    "print(solution)"
   ]
  },
  {
   "cell_type": "code",
   "execution_count": 107,
   "id": "0d5fcbea",
   "metadata": {
    "scrolled": true
   },
   "outputs": [
    {
     "name": "stdout",
     "output_type": "stream",
     "text": [
      "[[ 1.60921053]\n",
      " [ 3.19473684]\n",
      " [-0.78026316]\n",
      " [-0.80394737]] [[-1.84605263]\n",
      " [-3.89210526]] [[ 6.95394737]\n",
      " [ 1.41578947]\n",
      " [12.15394737]\n",
      " [12.10789474]]\n"
     ]
    }
   ],
   "source": [
    "x0,y0,s0=[[1],[2],[3],[4]],[[9],[10]],[[5],[6],[7],[8]]\n",
    "mu=[10,0.1,0.001,0.00001,0.0000001,0.000000001]\n",
    "x0=np.array(x0)\n",
    "y0=np.array(y0)\n",
    "s0=np.array(s0)\n",
    "e=np.ones((4,1))\n",
    "solution=np.vstack((x0,y0,s0))\n",
    "##################################################\n",
    "k=0\n",
    "X=np.diag(x0[:,0])\n",
    "S=np.diag(s0[:,0])\n",
    "r1=b-A.dot(x0)\n",
    "r2=c-A.transpose().dot(y0)+s0\n",
    "r3=mu[k]*e-X.dot(S).dot(e)\n",
    "residual=np.vstack((r1,r2,r3))\n",
    "##################################################\n",
    "A1=np.hstack((A,np.zeros((2, 2)),np.zeros((2, 4))))\n",
    "A2=np.hstack((np.zeros((4, 4)),A.transpose(),np.identity(4)))\n",
    "A3=np.hstack((S,np.zeros((4, 2)),X))\n",
    "barA=np.vstack((A1,A2,A3))\n",
    "##################################################\n",
    "NewtonDirection=np.linalg.inv(barA).dot(residual)\n",
    "solution=solution+NewtonDirection\n",
    "x0=solution[0:4,0].reshape(4,1)\n",
    "y0=solution[4:6,0].reshape(2,1)\n",
    "s0=solution[6:10,0].reshape(4,1)\n",
    "print(x0,y0,s0)"
   ]
  },
  {
   "cell_type": "code",
   "execution_count": 111,
   "id": "c2e9f5be",
   "metadata": {},
   "outputs": [
    {
     "name": "stdout",
     "output_type": "stream",
     "text": [
      "k=0\n",
      "[[ 1.60921053]\n",
      " [ 3.19473684]\n",
      " [-0.78026316]\n",
      " [-0.80394737]] [[-1.84605263]\n",
      " [-3.89210526]] [[ 6.95394737]\n",
      " [ 1.41578947]\n",
      " [12.15394737]\n",
      " [12.10789474]]\n",
      "k=1\n",
      "[[1.50391381]\n",
      " [2.21836743]\n",
      " [1.06717896]\n",
      " [0.27771877]] [[-0.26376703]\n",
      " [-4.9553616 ]] [[ 5.30780827]\n",
      " [ 1.17237741]\n",
      " [16.37236828]\n",
      " [13.14573987]]\n",
      "k=2\n",
      "[[ 1.03018218]\n",
      " [ 3.13679002]\n",
      " [-1.24339786]\n",
      " [-0.1669722 ]] [[ 0.4617128 ]\n",
      " [-5.02457931]] [[ 4.41930687]\n",
      " [ 0.76730512]\n",
      " [21.03506254]\n",
      " [15.07838904]]\n",
      "k=3\n",
      "[[1.77003312]\n",
      " [2.13798141]\n",
      " [1.4940703 ]\n",
      " [0.09198547]] [[ 1.37110341]\n",
      " [-5.44501635]] [[ 2.59207404]\n",
      " [ 0.64145407]\n",
      " [27.11749799]\n",
      " [17.07732922]]\n",
      "k=4\n",
      "[[ 0.86542405]\n",
      " [ 3.21879417]\n",
      " [-1.57216429]\n",
      " [-0.08421823]] [[ 1.38247552]\n",
      " [-4.46199692]] [[ 2.28085194]\n",
      " [ 0.40430014]\n",
      " [34.12481882]\n",
      " [20.9168969 ]]\n",
      "k=5\n",
      "[[1.85370639]\n",
      " [2.07549338]\n",
      " [1.70271962]\n",
      " [0.07080023]] [[ 1.76419515]\n",
      " [-4.16493731]] [[ 0.99588114]\n",
      " [ 0.33573298]\n",
      " [43.84556823]\n",
      " [25.54187852]]\n"
     ]
    }
   ],
   "source": [
    "stepSizeX=[1,1,1,1,1,1]\n",
    "stepSizeS=[1,0.255739448,0.244416903,0.240642829,0.245570101,0.263017218]\n",
    "x0,y0,s0=[[1],[2],[3],[4]],[[9],[10]],[[5],[6],[7],[8]]\n",
    "mu=[10,0.1,0.001,0.00001,0.0000001,0.000000001]\n",
    "x0=np.array(x0)\n",
    "y0=np.array(y0)\n",
    "s0=np.array(s0)\n",
    "e=np.ones((4,1))\n",
    "for k in range(6):\n",
    "    print(\"k=%d\"%k)\n",
    "    X=np.diag(x0[:,0])\n",
    "    S=np.diag(s0[:,0])\n",
    "    r1=b-A.dot(x0)\n",
    "    r2=c-A.transpose().dot(y0)+s0\n",
    "    r3=mu[k]*e-X.dot(S).dot(e)\n",
    "    residual=np.vstack((r1,r2,r3))\n",
    "    ##################################################\n",
    "    A1=np.hstack((A,np.zeros((2, 2)),np.zeros((2, 4))))\n",
    "    A2=np.hstack((np.zeros((4, 4)),A.transpose(),np.identity(4)))\n",
    "    A3=np.hstack((S,np.zeros((4, 2)),X))\n",
    "    barA=np.vstack((A1,A2,A3))\n",
    "    ##################################################\n",
    "    NewtonDirection=np.linalg.inv(barA).dot(residual)\n",
    "    \n",
    "    delta_x=NewtonDirection[0:4,0].reshape(4,1)\n",
    "    delta_y=NewtonDirection[4:6,0].reshape(2,1)\n",
    "    delta_s=NewtonDirection[6:10,0].reshape(4,1)\n",
    "    x0=x0+stepSizeX[k]*delta_x\n",
    "    y0=y0+stepSizeS[k]*delta_y\n",
    "    s0=s0+stepSizeS[k]*delta_s\n",
    "    \n",
    "    print(x0,y0,s0)"
   ]
  },
  {
   "cell_type": "markdown",
   "id": "b79fd29c",
   "metadata": {},
   "source": [
    "k= 0\n",
    "mu ==10.000000000\n",
    "stepSizeX == 1.000000000\n",
    "stepSizeS == 1.000000000\n",
    "k= 1\n",
    "mu is 0.100000000\n",
    "stepSizeX is 1.000000000\n",
    "stepSizeS is 0.255739448\n",
    "k= 2\n",
    "mu is 0.001000000\n",
    "stepSizeX is 1.000000000\n",
    "stepSizeS is 0.244416903\n",
    "k= 3\n",
    "mu is 0.000010000\n",
    "stepSizeX is 1.000000000\n",
    "stepSizeS is 0.240642829\n",
    "k= 4\n",
    "mu is 0.000000100\n",
    "stepSizeX is 1.000000000\n",
    "stepSizeS is 0.245570101\n",
    "k= 5\n",
    "mu == 0.000000001\n",
    "stepSizeX == 1.000000000\n",
    "stepSizeS == 0.263017218\n"
   ]
  },
  {
   "cell_type": "code",
   "execution_count": null,
   "id": "db64a128",
   "metadata": {},
   "outputs": [],
   "source": []
  }
 ],
 "metadata": {
  "kernelspec": {
   "display_name": "Python 3",
   "language": "python",
   "name": "python3"
  },
  "language_info": {
   "codemirror_mode": {
    "name": "ipython",
    "version": 3
   },
   "file_extension": ".py",
   "mimetype": "text/x-python",
   "name": "python",
   "nbconvert_exporter": "python",
   "pygments_lexer": "ipython3",
   "version": "3.8.8"
  }
 },
 "nbformat": 4,
 "nbformat_minor": 5
}
