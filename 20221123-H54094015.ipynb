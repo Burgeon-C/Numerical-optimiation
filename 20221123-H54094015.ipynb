{
 "cells": [
  {
   "cell_type": "code",
   "execution_count": 72,
   "id": "904b1e3f",
   "metadata": {},
   "outputs": [],
   "source": [
    "import numpy as np \n",
    "A=[[2,1,1,0],[1,3,0,1]]\n",
    "b=[[70],[90]]\n",
    "c=[[-40],[-60],[0],[0]]\n",
    "A=np.array(A)\n",
    "b=np.array(b)\n",
    "c=np.array(c)\n",
    "\n",
    "x0,y0,s0=[[1],[2],[3],[4]],[[9],[10]],[[5],[6],[7],[8]]"
   ]
  },
  {
   "cell_type": "code",
   "execution_count": 73,
   "id": "30ee0f48",
   "metadata": {},
   "outputs": [
    {
     "name": "stdout",
     "output_type": "stream",
     "text": [
      "[[1. 0. 0. 0.]\n",
      " [0. 1. 0. 0.]\n",
      " [0. 0. 1. 0.]\n",
      " [0. 0. 0. 1.]]\n"
     ]
    }
   ],
   "source": [
    "I=np.identity(4)\n",
    "print(I)"
   ]
  },
  {
   "cell_type": "code",
   "execution_count": 74,
   "id": "20fdba45",
   "metadata": {},
   "outputs": [
    {
     "name": "stdout",
     "output_type": "stream",
     "text": [
      "[[5 0 0 0]\n",
      " [0 6 0 0]\n",
      " [0 0 7 0]\n",
      " [0 0 0 8]]\n"
     ]
    }
   ],
   "source": [
    "s0=np.array(s0)\n",
    "S=np.diag(s0[:,0])\n",
    "print(S)"
   ]
  },
  {
   "cell_type": "code",
   "execution_count": 75,
   "id": "9a16d4e4",
   "metadata": {},
   "outputs": [
    {
     "name": "stdout",
     "output_type": "stream",
     "text": [
      "[[1 0 0 0]\n",
      " [0 2 0 0]\n",
      " [0 0 3 0]\n",
      " [0 0 0 4]]\n"
     ]
    }
   ],
   "source": [
    "x0=np.array(x0)\n",
    "X=np.diag(x0[:,0])\n",
    "print(X)"
   ]
  },
  {
   "cell_type": "code",
   "execution_count": 76,
   "id": "e11bb287",
   "metadata": {},
   "outputs": [
    {
     "data": {
      "text/plain": [
       "array([[2., 1., 1., 0., 0., 0.],\n",
       "       [1., 3., 0., 1., 0., 0.],\n",
       "       [0., 0., 0., 0., 2., 1.],\n",
       "       [0., 0., 0., 0., 1., 3.],\n",
       "       [0., 0., 0., 0., 1., 0.],\n",
       "       [0., 0., 0., 0., 0., 1.]])"
      ]
     },
     "execution_count": 76,
     "metadata": {},
     "output_type": "execute_result"
    }
   ],
   "source": [
    "np.vstack((np.hstack((A,np.zeros((2,2)))),np.hstack((np.zeros((4,4)),A.transpose()))))"
   ]
  },
  {
   "cell_type": "code",
   "execution_count": 77,
   "id": "74f4c3aa",
   "metadata": {},
   "outputs": [],
   "source": [
    "A1=np.hstack((A,np.zeros((2,2)),np.zeros((2,4))))\n",
    "A2=np.hstack((np.zeros((4,4)),A.transpose(),I))\n",
    "A3=np.hstack((S,np.zeros((4,2)),X))"
   ]
  },
  {
   "cell_type": "code",
   "execution_count": 78,
   "id": "4f8700b7",
   "metadata": {},
   "outputs": [
    {
     "name": "stdout",
     "output_type": "stream",
     "text": [
      "[[2. 1. 1. 0. 0. 0. 0. 0. 0. 0.]\n",
      " [1. 3. 0. 1. 0. 0. 0. 0. 0. 0.]\n",
      " [0. 0. 0. 0. 2. 1. 1. 0. 0. 0.]\n",
      " [0. 0. 0. 0. 1. 3. 0. 1. 0. 0.]\n",
      " [0. 0. 0. 0. 1. 0. 0. 0. 1. 0.]\n",
      " [0. 0. 0. 0. 0. 1. 0. 0. 0. 1.]\n",
      " [5. 0. 0. 0. 0. 0. 1. 0. 0. 0.]\n",
      " [0. 6. 0. 0. 0. 0. 0. 2. 0. 0.]\n",
      " [0. 0. 7. 0. 0. 0. 0. 0. 3. 0.]\n",
      " [0. 0. 0. 8. 0. 0. 0. 0. 0. 4.]]\n"
     ]
    }
   ],
   "source": [
    "barA=np.vstack((A1,A2,A3))\n",
    "print(barA)"
   ]
  },
  {
   "cell_type": "code",
   "execution_count": 79,
   "id": "eba308a3",
   "metadata": {},
   "outputs": [
    {
     "name": "stdout",
     "output_type": "stream",
     "text": [
      "[[ 63.]\n",
      " [ 79.]\n",
      " [-63.]\n",
      " [-93.]\n",
      " [ -2.]\n",
      " [ -2.]\n",
      " [ 95.]\n",
      " [ 88.]\n",
      " [ 79.]\n",
      " [ 68.]]\n"
     ]
    }
   ],
   "source": [
    "x0,y0,s0=[[1],[2],[3],[4]],[[9],[10]],[[5],[6],[7],[8]]\n",
    "\n",
    "x0=np.array(x0)\n",
    "y0=np.array(y0)\n",
    "s0=np.array(s0)\n",
    "e=np.ones((4,1))\n",
    "mu=100\n",
    "X=np.diag(x0[:,0])\n",
    "S=np.diag(s0[:,0])\n",
    "r1=b-A.dot(x0)\n",
    "r2=c-A.transpose().dot(y0)+s0\n",
    "r3=mu*e-X.dot(S).dot(e)\n",
    "residual=np.vstack((r1,r2,r3))\n",
    "solution=np.vstack((x0,y0,s0))\n",
    "print(residual)"
   ]
  },
  {
   "cell_type": "code",
   "execution_count": 80,
   "id": "1ae46683",
   "metadata": {},
   "outputs": [
    {
     "data": {
      "text/plain": [
       "array([[ 19.79800499],\n",
       "       [ 19.77805486],\n",
       "       [  3.62593516],\n",
       "       [ -0.13216958],\n",
       "       [-19.87281796],\n",
       "       [-19.26433915],\n",
       "       [ -3.99002494],\n",
       "       [-15.33416459],\n",
       "       [ 17.87281796],\n",
       "       [ 17.26433915]])"
      ]
     },
     "execution_count": 80,
     "metadata": {},
     "output_type": "execute_result"
    }
   ],
   "source": [
    "np.linalg.inv(barA).dot(residual)"
   ]
  },
  {
   "cell_type": "code",
   "execution_count": 81,
   "id": "fcfc0cac",
   "metadata": {},
   "outputs": [
    {
     "data": {
      "text/plain": [
       "array([[ 82.79800499],\n",
       "       [ 98.77805486],\n",
       "       [-59.37406484],\n",
       "       [-93.13216958],\n",
       "       [-21.87281796],\n",
       "       [-21.26433915],\n",
       "       [ 91.00997506],\n",
       "       [ 72.66583541],\n",
       "       [ 96.87281796],\n",
       "       [ 85.26433915]])"
      ]
     },
     "execution_count": 81,
     "metadata": {},
     "output_type": "execute_result"
    }
   ],
   "source": [
    "residual+np.linalg.inv(barA).dot(residual)"
   ]
  },
  {
   "cell_type": "code",
   "execution_count": 82,
   "id": "d1ac8e53",
   "metadata": {},
   "outputs": [
    {
     "name": "stdout",
     "output_type": "stream",
     "text": [
      "[10, 0.1, 0.001, 1e-05, 1e-07, 1e-09]\n",
      "[1, 1, 1, 1, 1, 1]\n",
      "[1, 0.255739448, 0.244416903, 0.245570101, 0.263017218]\n"
     ]
    }
   ],
   "source": [
    "mu=[10,0.1,0.001,0.00001,0.0000001,0.000000001]\n",
    "stepSizeX=[1,1,1,1,1,1]\n",
    "stepSizeS=[1,0.255739448,0.244416903,0.245570101,0.263017218]\n",
    "print(mu)\n",
    "print(stepSizeX)\n",
    "print(stepSizeS)"
   ]
  },
  {
   "cell_type": "code",
   "execution_count": 83,
   "id": "3e866206",
   "metadata": {},
   "outputs": [
    {
     "name": "stdout",
     "output_type": "stream",
     "text": [
      "[2 3 4] [ 9 10] [5 6 7 8]\n"
     ]
    }
   ],
   "source": [
    "x1=solution[1:4,0]\n",
    "y1=solution[4:6,0]\n",
    "s1=solution[6:10,0]\n",
    "print(x1,y1,s1)"
   ]
  },
  {
   "cell_type": "code",
   "execution_count": 84,
   "id": "3044b8ab",
   "metadata": {},
   "outputs": [
    {
     "name": "stdout",
     "output_type": "stream",
     "text": [
      "mu is  2.153940672227939\n",
      "stepSizeX is  [0.30366806]\n",
      "stepSizeS is  [0.03738637]\n",
      "k= 0\n",
      "[[6.17712393]\n",
      " [9.07088428]\n",
      " [4.70595567]\n",
      " [1.6       ]]\n",
      "[[9.55238132]\n",
      " [9.53989589]]\n",
      "[[2.        ]\n",
      " [3.35099837]\n",
      " [6.37284593]\n",
      " [8.38533137]]\n",
      "mu is  1.4855014071433645\n",
      "stepSizeX is  [0.1722607]\n",
      "stepSizeS is  [0.13190174]\n",
      "k= 1\n",
      "[[10.13887878]\n",
      " [11.22899925]\n",
      " [ 2.18122069]\n",
      " [ 0.64      ]]\n",
      "[[7.29523623]\n",
      " [6.46363965]]\n",
      "[[ 0.8       ]\n",
      " [ 2.32984798]\n",
      " [ 8.21060477]\n",
      " [11.30929854]]\n",
      "mu is  0.9339913522661111\n",
      "stepSizeX is  [0.17972322]\n",
      "stepSizeS is  [0.24387344]\n",
      "k= 2\n",
      "[[13.1335359 ]\n",
      " [13.07453118]\n",
      " [ 0.87248828]\n",
      " [ 0.29228657]]\n",
      "[[2.6699572 ]\n",
      " [1.49981986]]\n",
      "[[ 0.32      ]\n",
      " [ 1.2743232 ]\n",
      " [13.05911788]\n",
      " [17.45484585]]\n",
      "mu is  0.5354141308072011\n",
      "stepSizeX is  [0.21062091]\n",
      "stepSizeS is  [0.35897671]\n",
      "k= 3\n",
      "[[15.60555352]\n",
      " [14.92752404]\n",
      " [ 0.34899531]\n",
      " [ 0.12810427]]\n",
      "[[-2.65150779]\n",
      " [-4.3647515 ]]\n",
      "[[ 0.128     ]\n",
      " [ 0.5346981 ]\n",
      " [22.11004963]\n",
      " [29.0469    ]]\n",
      "mu is  0.30738331681280123\n",
      "stepSizeX is  [0.24222488]\n",
      "stepSizeS is  [0.4271749]\n",
      "k= 4\n",
      "[[17.70518026]\n",
      " [16.63294958]\n",
      " [ 0.13959812]\n",
      " [ 0.05390352]]\n",
      "[[-6.67975166]\n",
      " [-9.14036063]]\n",
      "[[ 0.05760659]\n",
      " [ 0.21387924]\n",
      " [36.71580942]\n",
      " [48.09512815]]\n",
      "mu is  0.18072467704839715\n",
      "stepSizeX is  [0.26460524]\n",
      "stepSizeS is  [0.48555011]\n",
      "k= 5\n",
      "[[19.39546135]\n",
      " [18.05064206]\n",
      " [ 0.05583925]\n",
      " [ 0.02237305]]\n",
      "[[ -9.27487187]\n",
      " [-12.38970936]]\n",
      "[[2.79736928e-02]\n",
      " [8.55516964e-02]\n",
      " [6.03816489e+01]\n",
      " [7.91351746e+01]]\n",
      "mu is  0.10967836318975653\n",
      "stepSizeX is  [0.27969412]\n",
      "stepSizeS is  [0.54466231]\n",
      "k= 6\n",
      "[[2.06926793e+01]\n",
      " [1.91544288e+01]\n",
      " [2.23356998e-02]\n",
      " [9.23622440e-03]]\n",
      "[[-10.76130759]\n",
      " [-14.32273564]]\n",
      "[[1.41691793e-02]\n",
      " [3.42206786e-02]\n",
      " [9.98073665e+01]\n",
      " [1.30918356e+02]]\n",
      "mu is  0.0693570252462531\n",
      "stepSizeX is  [0.28971287]\n",
      "stepSizeS is  [0.61150691]\n",
      "k= 7\n",
      "[[2.16544590e+01]\n",
      " [1.99785452e+01]\n",
      " [8.93427994e-03]\n",
      " [3.80065374e-03]]\n",
      "[[-11.51778149]\n",
      " [-15.33490655]]\n",
      "[[7.35575495e-03]\n",
      " [1.36882714e-02]\n",
      " [1.68177349e+02]\n",
      " [2.20746458e+02]]\n",
      "mu is  0.04653590168601212\n",
      "stepSizeX is  [0.29627001]\n",
      "stepSizeS is  [0.7079244]\n",
      "k= 8\n",
      "[[2.23507777e+01]\n",
      " [2.05773447e+01]\n",
      " [3.57371197e-03]\n",
      " [1.56012393e-03]]\n",
      "[[-11.85750894]\n",
      " [-15.80032363]]\n",
      "[[3.85066572e-03]\n",
      " [5.47530857e-03]\n",
      " [2.95727644e+02]\n",
      " [3.88339635e+02]]\n",
      "mu is  0.03501570175116051\n",
      "stepSizeX is  [0.30052002]\n",
      "stepSizeS is  [0.91450391]\n",
      "k= 9\n",
      "[[2.28469538e+01]\n",
      " [2.10048479e+01]\n",
      " [1.42948479e-03]\n",
      " [6.39125099e-04]]\n",
      "[[-11.98623667]\n",
      " [-15.98069129]]\n",
      "[[1.97314834e-03]\n",
      " [2.19012343e-03]\n",
      " [5.77144198e+02]\n",
      " [7.58107575e+02]]\n",
      "mu is  0.028347509105746772\n",
      "stepSizeX is  [0.30328333]\n",
      "stepSizeS is  1\n",
      "k= 10\n",
      "[[2.31968712e+01]\n",
      " [2.13066497e+01]\n",
      " [5.71793916e-04]\n",
      " [2.61370478e-04]]\n",
      "[[-11.9990554 ]\n",
      " [-15.99937587]]\n",
      "[[1.43297677e-03]\n",
      " [1.56327136e-03]\n",
      " [1.16628745e+03]\n",
      " [1.53221453e+03]]\n",
      "mu is  0.023005505370399852\n",
      "stepSizeX is  [0.30491204]\n",
      "stepSizeS is  1\n",
      "k= 11\n",
      "[[2.34418411e+01]\n",
      " [2.15180568e+01]\n",
      " [2.28717566e-04]\n",
      " [1.06789458e-04]]\n",
      "[[-11.99935327]\n",
      " [-15.99959992]]\n",
      "[[1.17240979e-03]\n",
      " [1.27958333e-03]\n",
      " [2.34457426e+03]\n",
      " [3.08042865e+03]]\n",
      "mu is  0.01861091239333314\n",
      "stepSizeX is  [0.3057766]\n",
      "stepSizeS is  1\n",
      "k= 12\n",
      "[[2.36125473e+01]\n",
      " [2.16654225e+01]\n",
      " [9.14870266e-05]\n",
      " [4.35960470e-05]]\n",
      "[[-11.99946893]\n",
      " [-15.99967079]]\n",
      "[[9.53465341e-04]\n",
      " [1.04046682e-03]\n",
      " [4.70114798e+03]\n",
      " [6.17685698e+03]]\n",
      "mu is  0.015029149797314918\n",
      "stepSizeX is  [0.30623483]\n",
      "stepSizeS is  1\n",
      "k= 13\n",
      "[[2.37312124e+01]\n",
      " [2.17678814e+01]\n",
      " [3.65948106e-05]\n",
      " [1.77828971e-05]]\n",
      "[[-11.99956696]\n",
      " [-15.99973168]]\n",
      "[[7.72531951e-04]\n",
      " [8.42946724e-04]\n",
      " [9.41429553e+03]\n",
      " [1.23697137e+04]]\n",
      "mu is  0.012124034244439164\n",
      "stepSizeX is  [0.30648985]\n",
      "stepSizeS is  1\n",
      "k= 14\n",
      "[[2.38135985e+01]\n",
      " [2.18390233e+01]\n",
      " [1.46379242e-05]\n",
      " [7.24767623e-06]]\n",
      "[[-11.99964859]\n",
      " [-15.99978232]]\n",
      "[[6.24556759e-04]\n",
      " [6.81439145e-04]\n",
      " [1.88405907e+04]\n",
      " [2.47554272e+04]]\n",
      "mu is  0.00977394290196431\n",
      "stepSizeX is  [0.30664259]\n",
      "stepSizeS is  1\n",
      "k= 15\n",
      "[[2.38707593e+01]\n",
      " [2.18883856e+01]\n",
      " [5.85516970e-06]\n",
      " [2.95152637e-06]]\n",
      "[[-11.99971562]\n",
      " [-15.99982388]]\n",
      "[[5.04233391e-04]\n",
      " [5.50131676e-04]\n",
      " [3.76931811e+04]\n",
      " [4.95268541e+04]]\n"
     ]
    }
   ],
   "source": [
    "mu=[10,0.1,0.001,0.00001,0.0000001,0.000000001,0,0,0,0,0,0,0,0,0,0,0]\n",
    "mu={}\n",
    "mu[0]=10\n",
    "stepSizeX=[1,1,1,1,1,1]\n",
    "stepSizeS=[1,0.255739448,0.244416903,0.240642829,0.245570101,0.263017218]\n",
    "\n",
    "x0,y0,s0=[[1],[2],[3],[4]],[[9],[10]],[[5],[6],[7],[8]]\n",
    "e=np.ones((4,1))\n",
    "\n",
    "def determineStepSize(x,d,r):\n",
    "    n=len(d)\n",
    "    stepSize=float(\"inf\")\n",
    "    for i in range(n):\n",
    "        if d[i] < 0 and stepSize>-x[i]/d[i]:\n",
    "            stepSize=-x[i]/d[i]\n",
    "    stepSize=min([1,r*stepSize])\n",
    "    return stepSize\n",
    "\n",
    "mu_0=10\n",
    "r=0.6\n",
    "epsilon=1e-4\n",
    "k=0\n",
    "\n",
    "while mu[k]>0.01:\n",
    "#for k in range(100):\n",
    "    x0=np.array(x0)\n",
    "    y0=np.array(y0)\n",
    "    s0=np.array(s0)\n",
    "    solution=np.vstack((x0,y0,s0))\n",
    "\n",
    "    X=np.diag(x0[:,0])\n",
    "    S=np.diag(s0[:,0])\n",
    "\n",
    "    r1=b-A.dot(x0)\n",
    "    r2=c-A.transpose().dot(y0)+s0\n",
    "    r3=mu[k]*e-X.dot(S).dot(e)\n",
    "    residual=np.vstack((r1,r2,r3))\n",
    "\n",
    "    A1=np.hstack((A,np.zeros((2,2)),np.zeros((2,4))))\n",
    "    A2=np.hstack((np.zeros((4,4)),A.transpose(),I))\n",
    "    A3=np.hstack((S,np.zeros((4,2)),X))\n",
    "    barA=np.vstack((A1,A2,A3))\n",
    "\n",
    "    NewtonDirection=np.linalg.inv(barA).dot(residual)\n",
    "    delta_x=NewtonDirection[0:4,0].reshape(4,1)\n",
    "    delta_y=NewtonDirection[4:6,0].reshape(2,1)\n",
    "    delta_s=NewtonDirection[6:10,0].reshape(4,1)\n",
    "    #solution=solution+NewtonDirection\n",
    "    \n",
    "    stepSizeX=determineStepSize(x0,delta_x,r)\n",
    "    stepSizeS=determineStepSize(s0,delta_s,r)\n",
    "    x0=x0+stepSizeX*delta_x\n",
    "    y0=y0+stepSizeS*delta_y\n",
    "    s0=s0+stepSizeS*delta_s\n",
    "    mu[k+1]=(1/10)*x0.transpose().dot(s0)/4#complementary condition\n",
    "    \n",
    "    print(\"mu is \",mu[k+1][0,0])\n",
    "    print(\"stepSizeX is \",stepSizeX)\n",
    "    print(\"stepSizeS is \",stepSizeS)\n",
    "    print('k=',k)\n",
    "    print(x0)\n",
    "    print(y0)\n",
    "    print(s0)\n",
    "    k=k+1"
   ]
  },
  {
   "cell_type": "markdown",
   "id": "50664fbf",
   "metadata": {},
   "source": [
    "Determine $\\alpha_{P}$ and $\\alpha_{D}$ as follows:\n",
    "$$\n",
    "\\alpha_{P}=\\min\\left\\{1,\\min_{(\\Delta {\\bf x})_{j}<0} \\left\\{\\frac{r x^k_{j}}{-(\\Delta {\\bf x})_{j}}\\right\\}  \\right\\}\n",
    "$$\n",
    "$$\n",
    "\\alpha_{D}=\\min\\left\\{1,\\min_{(\\Delta {\\bf s})_{j}<0} \\left\\{\\frac{r s^k_{j}}{-(\\Delta {\\bf s})_{j}}\\right\\}  \\right\\}\n",
    "$$"
   ]
  },
  {
   "cell_type": "code",
   "execution_count": 85,
   "id": "bd902a33",
   "metadata": {},
   "outputs": [],
   "source": [
    "def determineStepSize(x,d,r):\n",
    "    n=len(d)\n",
    "    stepSize=float(\"inf\")\n",
    "    for i in range(n):\n",
    "        if d[i] < 0 and stepSize<-x[i]/d[i]:\n",
    "            stepSize=-x[i]/d[i]\n",
    "    stepSize=min([1,r*stepSize])\n",
    "    return stepSize\n"
   ]
  },
  {
   "cell_type": "code",
   "execution_count": null,
   "id": "b11372d7",
   "metadata": {},
   "outputs": [],
   "source": []
  }
 ],
 "metadata": {
  "kernelspec": {
   "display_name": "Python 3 (ipykernel)",
   "language": "python",
   "name": "python3"
  },
  "language_info": {
   "codemirror_mode": {
    "name": "ipython",
    "version": 3
   },
   "file_extension": ".py",
   "mimetype": "text/x-python",
   "name": "python",
   "nbconvert_exporter": "python",
   "pygments_lexer": "ipython3",
   "version": "3.9.12"
  }
 },
 "nbformat": 4,
 "nbformat_minor": 5
}
