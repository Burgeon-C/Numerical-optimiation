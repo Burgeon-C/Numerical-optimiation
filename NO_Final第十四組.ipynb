{
  "cells": [
    {
      "cell_type": "code",
      "execution_count": null,
      "id": "7a92e21c",
      "metadata": {
        "id": "7a92e21c"
      },
      "outputs": [],
      "source": [
        "import numpy as np\n",
        "import random\n",
        "import math\n",
        "import matplotlib.pyplot as plt"
      ]
    },
    {
      "cell_type": "markdown",
      "id": "fef73d97",
      "metadata": {
        "id": "fef73d97"
      },
      "source": [
        "## 第1題\n"
      ]
    },
    {
      "cell_type": "code",
      "execution_count": null,
      "id": "d9bc670d",
      "metadata": {
        "scrolled": false,
        "id": "d9bc670d",
        "colab": {
          "base_uri": "https://localhost:8080/",
          "height": 354
        },
        "outputId": "a719e1d4-6b28-49d9-bf94-3e72b189a5f1"
      },
      "outputs": [
        {
          "output_type": "stream",
          "name": "stdout",
          "text": [
            "w: [-0.7312715117751976, 0.8474337369372327]\n",
            "b: [0.2550690257394217, 0.763774618976614]\n",
            "Data set: [[-0.09129825816118142, -1.010178704225238], [3.031859454455258, 5.7744670227102635], [-8.122808264515303, -9.433050469559873], [6.715302078397393, -1.344658641898933], [5.245601649158839, -9.957878932977787], [-1.092256118903972, 4.430800646815651], [-5.424755574590947, 8.905413911078448], [8.028549152229672, -9.388200339328929], [-9.491082780130784, 0.8282494558699316], [8.782983255570212, -2.375915246235751], [-5.668012057387733, -1.5576684883456533], [-9.419184248502642, -5.566166674539299], [-1.2422481269885584, -0.0837551723629879], [-5.338310994848547, -5.382669169180314], [-5.624379253246228, -0.8079306852453279], [-4.204367708190288, -9.570205894681823], [6.751559513251458, 1.129086453048668], [2.8458872586489115, -6.281874682105646], [9.850868243521301, 7.198930575905798], [-7.582200803883872, -3.3460962927974176]]\n",
            "label: [-1, 1, -1, -1, -1, 1, 1, -1, 1, -1, 1, 1, 1, -1, 1, -1, -1, -1, -1, 1]\n"
          ]
        },
        {
          "output_type": "display_data",
          "data": {
            "text/plain": [
              "<Figure size 432x288 with 1 Axes>"
            ],
            "image/png": "[encoded data removed]"
          },
          "metadata": {
            "needs_background": "light"
          }
        }
      ],
      "source": [
        "# ---Generate data set---\n",
        "random.seed(1) # 隨機種子序號\n",
        "n, m = 20, 2 # 資料數量與維度\n",
        "w = [-1 + 2*random.random(), random.random()]\n",
        "b = [random.random(), random.random()]\n",
        "b.sort()\n",
        "\n",
        "i = 0\n",
        "dataPointSet = []\n",
        "label = []\n",
        "while i < n:\n",
        "    dataPointSet.append([])\n",
        "    for j in range(m):\n",
        "        dataPointSet[-1].append(-10 + random.random()*20)\n",
        "    x = dataPointSet[-1]\n",
        "    if w[0]*x[0] + w[1]*x[1] >= b[1]:\n",
        "        label.append(1)\n",
        "        i+=1\n",
        "    elif w[0]*x[0] + w[1]*x[1] <= b[0]:\n",
        "        label.append(-1)\n",
        "        i+=1\n",
        "    else:\n",
        "        dataPointSet.remove(x)\n",
        "\n",
        "print(\"w:\", w)\n",
        "print(\"b:\", b)\n",
        "print(\"Data set:\",dataPointSet)\n",
        "print(\"label:\",label)\n",
        "dataPointSet = np.array(dataPointSet)\n",
        "plt.scatter(dataPointSet[:,0], dataPointSet[:,1], c=label)\n",
        "plt.grid()"
      ]
    },
    {
      "cell_type": "code",
      "execution_count": null,
      "id": "f5a96826",
      "metadata": {
        "id": "f5a96826"
      },
      "outputs": [],
      "source": [
        "# ---IPM for SVM---\n",
        "def determineStepSize(x,d,r):\n",
        "    n = len(d)\n",
        "    stepSize = float(\"inf\")\n",
        "    for i in range(n):\n",
        "        if d[i] < 0 and stepSize > -x[i]/d[i]:\n",
        "            stepSize = -x[i]/d[i]\n",
        "    stepSize = min([1,r*stepSize])\n",
        "    return stepSize\n",
        "\n",
        "def objEfficient(x, number_w, C, number_xi):\n",
        "    c = []\n",
        "    for i in range(number_w): \n",
        "        c.append(x[2*i, 0] - x[2*i+1, 0])\n",
        "        c.append(-(x[2*i, 0] - x[2*i+1, 0]))\n",
        "    c.append(0) # ba\n",
        "    c.append(0) # bb\n",
        "    for i in range(number_xi): # data point\n",
        "        c.append(C)\n",
        "    while len(c) < x0.shape[0]: # surplus variable\n",
        "        c.append(0)\n",
        "    return np.array([c]).T\n",
        "\n",
        "def IPM(A, b, x0, y0, s0, dim=2, C=1, r=0.6, epsilon=1e-6, mu_0=10, mu_Method=None, max_iter=10000, show_mu=False, show_dualityGap=False):\n",
        "    m, n = A.shape\n",
        "    mu = [mu_0]\n",
        "    e = np.ones([n, 1])\n",
        "    c = objEfficient(x0, dim, C, m)\n",
        "    \n",
        "    k=0\n",
        "    while k < max_iter: # while mu[k] > epsilon*mu_0:\n",
        "        X = np.diag(x0[:,0])\n",
        "        S = np.diag(s0[:,0])\n",
        "        r1 = b-A.dot(x0)\n",
        "        r2 = c-A.transpose().dot(y0)-s0\n",
        "        r3 = mu[k]*e-X.dot(S).dot(e)\n",
        "        residual = np.vstack([r1, r2, r3])\n",
        "        A1 = np.hstack([A, np.zeros([m,m]), np.zeros([m,n])])\n",
        "        A2 = np.hstack([np.zeros([n,n]), A.transpose(), np.identity(n)])\n",
        "        A3 = np.hstack([S, np.zeros([n,m]), X])\n",
        "        barA = np.vstack([A1, A2, A3])\n",
        "        NewtonDirection = np.linalg.inv(barA).dot(residual)\n",
        "        delta_x = NewtonDirection[0:n,0].reshape(n,1)\n",
        "        delta_y = NewtonDirection[n:n+m,0].reshape(m,1)\n",
        "        delta_s = NewtonDirection[n+m:2*n+m,0].reshape(n,1)\n",
        "        stepSizeX = determineStepSize(x0, delta_x, r)\n",
        "        stepSizeS = determineStepSize(s0, delta_s, r)\n",
        "        x0 = x0+stepSizeX*delta_x\n",
        "        y0 = y0+stepSizeS*delta_y\n",
        "        s0 = s0+stepSizeS*delta_s\n",
        "        \n",
        "        c = objEfficient(x0, dim, C, m)\n",
        "\n",
        "        if(mu_Method):\n",
        "            mu.append(mu_Method(mu[k], x0, s0, k))\n",
        "        else:\n",
        "            mu.append((1/10)*x0.transpose().dot(s0)/n)\n",
        "            \n",
        "        primal = np.linalg.norm(A.dot(x0) - b)\n",
        "        dual = np.linalg.norm(A.T.dot(y0) + s0 - c)\n",
        "        gap = x0.transpose().dot(s0)[0,0]\n",
        "        \n",
        "        print(\"\\riteration\", k, end=\", \")\n",
        "        for i in range(dim):\n",
        "            print(f\"w{i+1}: {x0[2*i, 0] - x0[2*i+1, 0]}\", end=\", \")\n",
        "        print(f\"b: {x0[2*dim, 0] - x0[2*dim+1, 0]}\", end=\"\")\n",
        "        \n",
        "        if(show_mu):\n",
        "            print(\"\\ncurrent µ is\", mu[-1], \"\\n\")\n",
        "            \n",
        "        if(show_dualityGap):\n",
        "            if(k%10==0):\n",
        "                print(\"primal:\", primal)\n",
        "                print(\"dual:\", dual)\n",
        "                print(\"gap:\", gap, \"\\n\")\n",
        "        \n",
        "        if(primal <= epsilon and dual <= epsilon and gap <= epsilon):\n",
        "            break\n",
        "\n",
        "        k+=1\n",
        "    \n",
        "    if(show_dualityGap):\n",
        "        print(\"primal:\", primal)\n",
        "        print(\"dual:\", dual)\n",
        "        print(\"gap:\", gap)\n",
        "\n",
        "    return x0"
      ]
    },
    {
      "cell_type": "code",
      "execution_count": null,
      "id": "6df0b933",
      "metadata": {
        "id": "6df0b933"
      },
      "outputs": [],
      "source": [
        "# ---Setup---\n",
        "m, n = 20, 46\n",
        "dim = 2 #dimension\n",
        "\n",
        "# ---variables---\n",
        "np.random.seed(1)\n",
        "x0 = np.random.rand(n, 1)\n",
        "y0 = np.ones((m, 1))\n",
        "s0 = np.ones((n, 1))\n",
        "\n",
        "# ---constraints---\n",
        "A = np.zeros((m, n))\n",
        "for i in range(m):\n",
        "    temp = []\n",
        "    for j in range(dim):\n",
        "        temp.append(dataPointSet[i,j])\n",
        "        temp.append(-dataPointSet[i,j])\n",
        "    temp.append(1)\n",
        "    temp.append(-1)\n",
        "    A[i,0:dim*2+2] = np.array(temp)*label[i]\n",
        "    A[i,2+dim*2+i] = 1\n",
        "    A[i,2+dim*2+m+i] = -1\n",
        "B = np.ones((m, 1))"
      ]
    },
    {
      "cell_type": "markdown",
      "id": "df690a45",
      "metadata": {
        "id": "df690a45"
      },
      "source": [
        "### (b)"
      ]
    },
    {
      "cell_type": "code",
      "execution_count": null,
      "id": "c1043d77",
      "metadata": {
        "id": "c1043d77",
        "colab": {
          "base_uri": "https://localhost:8080/"
        },
        "outputId": "514564e2-d534-473d-e714-0e7fdf173966"
      },
      "outputs": [
        {
          "output_type": "stream",
          "name": "stdout",
          "text": [
            "(1) µ = (1/2)**k\n",
            "\riteration 0, w1: -0.14255595450003078, w2: 0.1555629335117672, b: 0.14165488571269336\n",
            "current µ is 10.0 \n",
            "\n",
            "\riteration 1, w1: -1.3280154555031274, w2: 1.31918433213594, b: 0.38233303323993084\n",
            "current µ is 5.0 \n",
            "\n",
            "\riteration 2, w1: -3.0197517311622093, w2: 3.157364790852064, b: 0.11855858500882022\n",
            "current µ is 1.25 \n",
            "\n",
            "\riteration 3, w1: -3.536462055843053, w2: 3.783128741102196, b: -0.6923378039248362\n",
            "current µ is 0.15625 \n",
            "\n",
            "\riteration 4, w1: -3.240586524889302, w2: 3.4901537196170054, b: -1.1725519568822378\n",
            "current µ is 0.009765625 \n",
            "\n",
            "\n",
            "(2) µ = (1 - 1/(10*math.sqrt(2)))**k\n",
            "\riteration 0, w1: -0.14255595450003078, w2: 0.1555629335117672, b: 0.14165488571269336\n",
            "current µ is 10.0 \n",
            "\n",
            "\riteration 1, w1: -1.3280154555031274, w2: 1.31918433213594, b: 0.38233303323993084\n",
            "current µ is 9.292893218813452 \n",
            "\n",
            "\riteration 2, w1: -3.4560255711522174, w2: 3.5979393781996194, b: 0.18004098630127885\n",
            "current µ is 8.025144122534424 \n",
            "\n",
            "\riteration 3, w1: -6.423398232459078, w2: 6.8289653104735635, b: -1.482082859431415\n",
            "current µ is 6.440293818744883 \n",
            "\n",
            "\riteration 4, w1: -7.282753235950679, w2: 7.512970026216408, b: -4.1853723587465765\n",
            "current µ is 4.802965516961238 \n",
            "\n",
            "\n",
            "(3) µ = x.transpose().dot(s)/2/10\n",
            "\riteration 0, w1: -0.14255595450003078, w2: 0.1555629335117672, b: 0.14165488571269336\n",
            "current µ is 21.677059407789905 \n",
            "\n",
            "\riteration 1, w1: -1.5147291838786074, w2: 1.5061848824341908, b: 0.4223326948509296\n",
            "current µ is 45.563201021380976 \n",
            "\n",
            "\riteration 2, w1: -8.571123152539883, w2: 8.67350748281666, b: 0.8676427474215416\n",
            "current µ is 99.3811323448814 \n",
            "\n",
            "\riteration 3, w1: -31.987031854259158, w2: 32.48119608110966, b: -6.2508156678734395\n",
            "current µ is 209.7713165729242 \n",
            "\n",
            "\riteration 4, w1: -19.281573212475678, w2: 1.3310701786761001, b: -63.788897495484434\n",
            "current µ is 410.47098335860767 \n",
            "\n"
          ]
        }
      ],
      "source": [
        "# 1st method\n",
        "def mu1(mu, x, s, k):\n",
        "    return mu * (1/2)**k\n",
        "print('(1) µ = (1/2)**k')\n",
        "IPM(A, B, x0, y0, s0, mu_Method=mu1, max_iter=5, show_mu=True)\n",
        "\n",
        "# 2nd method\n",
        "def mu2(mu, x, s, k):\n",
        "    return mu * (1 - 1/(10*math.sqrt(2)))**k\n",
        "print('\\n(2) µ = (1 - 1/(10*math.sqrt(2)))**k')\n",
        "IPM(A, B, x0, y0, s0, mu_Method=mu2, max_iter=5, show_mu=True)\n",
        "\n",
        "# 3rd method\n",
        "def mu3(mu, x, s, k):\n",
        "    return (x.transpose().dot(s)[0,0]/2/10)\n",
        "print('\\n(3) µ = x.transpose().dot(s)/2/10')\n",
        "a = IPM(A, B, x0, y0, s0, mu_Method=mu3, max_iter=5, show_mu=True)"
      ]
    },
    {
      "cell_type": "markdown",
      "id": "e429d10c",
      "metadata": {
        "id": "e429d10c"
      },
      "source": [
        "### (c)"
      ]
    },
    {
      "cell_type": "code",
      "execution_count": null,
      "id": "99aebc23",
      "metadata": {
        "id": "99aebc23",
        "colab": {
          "base_uri": "https://localhost:8080/"
        },
        "outputId": "d152f36e-39e3-4f69-ffbb-3b378109cb44"
      },
      "outputs": [
        {
          "output_type": "stream",
          "name": "stdout",
          "text": [
            "\riteration 0, w1: -0.14255595450003078, w2: 0.1555629335117672, b: 0.14165488571269336primal: 1.3139038035509534e-13\n",
            "dual: 111.79392354841069\n",
            "gap: 433.54118815579807 \n",
            "\n",
            "\riteration 1, w1: -1.3280154555031274, w2: 1.31918433213594, b: 0.38233303323993084\riteration 2, w1: -3.0197517311622093, w2: 3.157364790852064, b: 0.11855858500882022\riteration 3, w1: -3.536462055843053, w2: 3.783128741102196, b: -0.6923378039248362\riteration 4, w1: -3.240586524889302, w2: 3.4901537196170054, b: -1.1725519568822378\riteration 5, w1: -2.5386426486862277, w2: 2.753209331366129, b: -1.074463857991887\riteration 6, w1: -1.9068717100066621, w2: 2.0959329701895584, b: -0.7872036603578891\riteration 7, w1: -1.4378963066108597, w2: 1.6117659512673939, b: -0.5105227798577943\riteration 8, w1: -1.1439937087467413, w2: 1.3121794142174608, b: -0.3081129056391134\riteration 9, w1: -0.9825111916152807, w2: 1.1514592234441352, b: -0.17901465686880158\riteration 10, w1: -0.9005743646333499, w2: 1.0718570073037696, b: -0.10366710094508846primal: 7.098589148347291e-11\n",
            "dual: 0.5261728767767827\n",
            "gap: 1.1139423498313294 \n",
            "\n",
            "\riteration 11, w1: -0.869036394921423, w2: 1.0421774683383518, b: -0.06501009521953449\riteration 12, w1: -0.8635236794428707, w2: 1.0385464331507563, b: -0.04279166905714504\riteration 13, w1: -0.8662674723480706, w2: 1.042966604889891, b: -0.02865303018585763\riteration 14, w1: -0.87018549027691, w2: 1.0480633114214655, b: -0.020051663654257368\riteration 15, w1: -0.8740983895863721, w2: 1.0527468137629512, b: -0.014403045162453054\riteration 16, w1: -0.8775090282264344, w2: 1.0563939780985052, b: -0.010955800200150634\riteration 17, w1: -0.8801272026586275, w2: 1.0586038010030236, b: -0.009492957058576224\riteration 18, w1: -0.881934260106334, w2: 1.0597129476629092, b: -0.009172034024132358\riteration 19, w1: -0.882983815378978, w2: 1.0602409902900618, b: -0.009170789374586263\riteration 20, w1: -0.8835063772909351, w2: 1.0604950745911097, b: -0.009190927616536726primal: 3.624029528178107e-09\n",
            "dual: 0.0032675374623926195\n",
            "gap: 0.0005569312480643406 \n",
            "\n",
            "\riteration 21, w1: -0.8837428415704451, w2: 1.0606131088303883, b: -0.009198685057761224\riteration 22, w1: -0.8838438992427697, w2: 1.0606649743285317, b: -0.00920076823567939\riteration 23, w1: -0.8838857007001835, w2: 1.0606868116801635, b: -0.009201257790863338\riteration 24, w1: -0.8839026946302866, w2: 1.0606957757274316, b: -0.009201369406532933\riteration 25, w1: -0.8839095439670572, w2: 1.0606994064234598, b: -0.009201396055274813\riteration 26, w1: -0.883912293488045, w2: 1.0607008669536953, b: -0.009201403136614772\riteration 27, w1: -0.8839133952606772, w2: 1.0607014526938556, b: -0.009201405287775799\riteration 28, w1: -0.8839138358644192, w2: 1.0607016872448014, b: -0.009201406022064873\riteration 29, w1: -0.8839140124423253, w2: 1.0607017810518045, b: -0.009201406292902448\riteration 30, w1: -0.8839140825707688, w2: 1.0607018186305908, b: -0.00920140639711775primal: 6.445317747619281e-09\n",
            "dual: 1.47443083907729e-06\n",
            "gap: 6.104149060311241e-08 \n",
            "\n",
            "\riteration 31, w1: -0.8839141110692097, w2: 1.060701833648153, b: -0.009201406438087645primal: 1.984405187069263e-09\n",
            "dual: 6.353173346667221e-07\n",
            "gap: 2.4416694265263562e-08\n"
          ]
        }
      ],
      "source": [
        "result = IPM(A, B, x0, y0, s0, C=1, mu_Method=mu1, max_iter=100, show_dualityGap=True)"
      ]
    },
    {
      "cell_type": "markdown",
      "id": "6a53bdd9",
      "metadata": {
        "id": "6a53bdd9"
      },
      "source": [
        "### (d)"
      ]
    },
    {
      "cell_type": "code",
      "execution_count": null,
      "id": "9e95e749",
      "metadata": {
        "id": "9e95e749",
        "colab": {
          "base_uri": "https://localhost:8080/",
          "height": 265
        },
        "outputId": "206a40f9-a3c4-41f7-a340-4dc3f92ca365"
      },
      "outputs": [
        {
          "output_type": "display_data",
          "data": {
            "text/plain": [
              "<Figure size 432x288 with 1 Axes>"
            ],
            "image/png": "[encoded data removed]"
          },
          "metadata": {
            "needs_background": "light"
          }
        }
      ],
      "source": [
        "w1 = result[0, 0] - result[1, 0]\n",
        "w2 = result[2, 0] - result[3, 0]\n",
        "b = result[4, 0] - result[5, 0]\n",
        "\n",
        "x_1 = [-10, 10]\n",
        "x_2 = []\n",
        "for i in x_1:\n",
        "    x_2.append((-b-w1*i)/w2)\n",
        "\n",
        "plt.scatter(dataPointSet[:,0], dataPointSet[:,1], c=label)\n",
        "plt.plot(x_1, x_2)\n",
        "plt.grid()"
      ]
    },
    {
      "cell_type": "markdown",
      "id": "f28f04ce",
      "metadata": {
        "id": "f28f04ce"
      },
      "source": [
        "## 第2題"
      ]
    },
    {
      "cell_type": "code",
      "execution_count": null,
      "id": "e5f8f721",
      "metadata": {
        "id": "e5f8f721"
      },
      "outputs": [],
      "source": [
        "def determineStepSize(x,d,r):\n",
        "    n=len(d)\n",
        "    stepSize=float(\"inf\")\n",
        "    for i in range(n):\n",
        "        if d[i] < 0 and stepSize > -x[i]/d[i]:\n",
        "            stepSize = -x[i]/d[i]\n",
        "    stepSize = min([1,r*stepSize])\n",
        "    return stepSize\n",
        "\n",
        "def IPM(A, b, c, x0, y0, s0, r=0.6, epsilon=1e-8, mu_0=10, max_iter=10000):\n",
        "    m, n = A.shape\n",
        "    mu = [mu_0]\n",
        "    e = np.ones((n, 1))\n",
        "    k=0\n",
        "    while k < max_iter: #while mu[k] > epsilon*mu_0:\n",
        "        X = np.diag(x0[:,0])\n",
        "        S = np.diag(s0[:,0])\n",
        "        r1 = b-A.dot(x0)\n",
        "        r2 = c-A.transpose().dot(y0)-s0\n",
        "        r3 = mu[k]*e-X.dot(S).dot(e)\n",
        "        residual = np.vstack((r1,r2,r3))\n",
        "        A1 = np.hstack((A,np.zeros((m,m)),np.zeros((m,n))))\n",
        "        A2 = np.hstack((np.zeros((n,n)),A.transpose(),np.identity(n)))\n",
        "        A3 = np.hstack((S,np.zeros((n,m)),X))\n",
        "        barA = np.vstack((A1,A2,A3))\n",
        "        NewtonDirection = np.linalg.inv(barA).dot(residual)\n",
        "        delta_x = NewtonDirection[0:n,0].reshape(n,1)\n",
        "        delta_y = NewtonDirection[n:n+m,0].reshape(m,1)\n",
        "        delta_s = NewtonDirection[n+m:2*n+m,0].reshape(n,1)\n",
        "        stepSizeX = determineStepSize(x0,delta_x,r)\n",
        "        stepSizeS = determineStepSize(s0,delta_s,r)\n",
        "        x0 = x0+stepSizeX*delta_x\n",
        "        y0 = y0+stepSizeS*delta_y\n",
        "        s0 = s0+stepSizeS*delta_s\n",
        "        mu.append((1/10)*x0.transpose().dot(s0)/n)\n",
        "    return x0"
      ]
    },
    {
      "cell_type": "code",
      "execution_count": null,
      "id": "37395a45",
      "metadata": {
        "id": "37395a45"
      },
      "outputs": [],
      "source": [
        "# ---setup---\n",
        "m, n = 6, 8 \n",
        "np.random.seed(1)\n",
        "x0 = np.random.rand(n, 1)\n",
        "y0 = np.ones((m, 1))\n",
        "s0 = np.ones((n, 1))\n",
        "\n",
        "sources = [[2, 300], [3, 200], [4, 100], [2, 200], [1, 400]]\n",
        "\n",
        "# Constraints\n",
        "A = []\n",
        "for i in range(len(sources)):\n",
        "    A.append(np.zeros([m, n]))\n",
        "    A[i][0, 1] = sources[i][0]\n",
        "    A[i][0, 2] = sources[i][1]\n",
        "    for j in range(len(sources)):\n",
        "        A[i][1+j, 0] = 1000\n",
        "        A[i][1+j, 1] = -sources[j][0]\n",
        "        A[i][1+j, 2] = -sources[j][1]\n",
        "        A[i][1+j, 3+j] = 1\n",
        "        \n",
        "B = np.zeros([m, 1])\n",
        "B[0, 0] = 1\n",
        "\n",
        "# Objective\n",
        "c = np.zeros([n, 1])\n",
        "c[0, 0] = -1000"
      ]
    },
    {
      "cell_type": "markdown",
      "id": "45683494",
      "metadata": {
        "id": "45683494"
      },
      "source": [
        "### (b)"
      ]
    },
    {
      "cell_type": "code",
      "execution_count": null,
      "id": "f76ed680",
      "metadata": {
        "id": "f76ed680",
        "colab": {
          "base_uri": "https://localhost:8080/",
          "height": 417
        },
        "outputId": "46a223eb-6b34-46a6-ed1a-2189df9becb3"
      },
      "outputs": [
        {
          "output_type": "error",
          "ename": "KeyboardInterrupt",
          "evalue": "ignored",
          "traceback": [
            "\u001b[0;31m---------------------------------------------------------------------------\u001b[0m",
            "\u001b[0;31mKeyboardInterrupt\u001b[0m                         Traceback (most recent call last)",
            "\u001b[0;32m<ipython-input-11-909b852dfba8>\u001b[0m in \u001b[0;36m<module>\u001b[0;34m\u001b[0m\n\u001b[1;32m     18\u001b[0m \u001b[0;31m## Do IPM and save results\u001b[0m\u001b[0;34m\u001b[0m\u001b[0;34m\u001b[0m\u001b[0;34m\u001b[0m\u001b[0m\n\u001b[1;32m     19\u001b[0m \u001b[0;32mfor\u001b[0m \u001b[0mi\u001b[0m \u001b[0;32min\u001b[0m \u001b[0mrange\u001b[0m\u001b[0;34m(\u001b[0m\u001b[0mlen\u001b[0m\u001b[0;34m(\u001b[0m\u001b[0mA\u001b[0m\u001b[0;34m)\u001b[0m\u001b[0;34m)\u001b[0m\u001b[0;34m:\u001b[0m\u001b[0;34m\u001b[0m\u001b[0;34m\u001b[0m\u001b[0m\n\u001b[0;32m---> 20\u001b[0;31m     \u001b[0msolution\u001b[0m \u001b[0;34m=\u001b[0m \u001b[0mIPM\u001b[0m\u001b[0;34m(\u001b[0m\u001b[0mA\u001b[0m\u001b[0;34m[\u001b[0m\u001b[0mi\u001b[0m\u001b[0;34m]\u001b[0m\u001b[0;34m,\u001b[0m \u001b[0mB\u001b[0m\u001b[0;34m,\u001b[0m \u001b[0mc\u001b[0m\u001b[0;34m,\u001b[0m \u001b[0mx0\u001b[0m\u001b[0;34m,\u001b[0m \u001b[0my0\u001b[0m\u001b[0;34m,\u001b[0m \u001b[0ms0\u001b[0m\u001b[0;34m)\u001b[0m\u001b[0;34m\u001b[0m\u001b[0;34m\u001b[0m\u001b[0m\n\u001b[0m\u001b[1;32m     21\u001b[0m     \u001b[0mobjective\u001b[0m \u001b[0;34m=\u001b[0m \u001b[0msolution\u001b[0m\u001b[0;34m[\u001b[0m\u001b[0;36m0\u001b[0m\u001b[0;34m,\u001b[0m\u001b[0;36m0\u001b[0m\u001b[0;34m]\u001b[0m \u001b[0;34m*\u001b[0m \u001b[0;36m1000\u001b[0m\u001b[0;34m\u001b[0m\u001b[0;34m\u001b[0m\u001b[0m\n\u001b[1;32m     22\u001b[0m     \u001b[0mdataForTable\u001b[0m\u001b[0;34m[\u001b[0m\u001b[0;34m'大學'\u001b[0m\u001b[0;34m]\u001b[0m\u001b[0;34m.\u001b[0m\u001b[0mappend\u001b[0m\u001b[0;34m(\u001b[0m\u001b[0mchr\u001b[0m\u001b[0;34m(\u001b[0m\u001b[0;36m65\u001b[0m\u001b[0;34m+\u001b[0m\u001b[0mi\u001b[0m\u001b[0;34m)\u001b[0m\u001b[0;34m)\u001b[0m\u001b[0;34m\u001b[0m\u001b[0;34m\u001b[0m\u001b[0m\n",
            "\u001b[0;32m<ipython-input-8-b7ad8e4289e3>\u001b[0m in \u001b[0;36mIPM\u001b[0;34m(A, b, c, x0, y0, s0, r, epsilon, mu_0, max_iter)\u001b[0m\n\u001b[1;32m     24\u001b[0m         \u001b[0mA3\u001b[0m \u001b[0;34m=\u001b[0m \u001b[0mnp\u001b[0m\u001b[0;34m.\u001b[0m\u001b[0mhstack\u001b[0m\u001b[0;34m(\u001b[0m\u001b[0;34m(\u001b[0m\u001b[0mS\u001b[0m\u001b[0;34m,\u001b[0m\u001b[0mnp\u001b[0m\u001b[0;34m.\u001b[0m\u001b[0mzeros\u001b[0m\u001b[0;34m(\u001b[0m\u001b[0;34m(\u001b[0m\u001b[0mn\u001b[0m\u001b[0;34m,\u001b[0m\u001b[0mm\u001b[0m\u001b[0;34m)\u001b[0m\u001b[0;34m)\u001b[0m\u001b[0;34m,\u001b[0m\u001b[0mX\u001b[0m\u001b[0;34m)\u001b[0m\u001b[0;34m)\u001b[0m\u001b[0;34m\u001b[0m\u001b[0;34m\u001b[0m\u001b[0m\n\u001b[1;32m     25\u001b[0m         \u001b[0mbarA\u001b[0m \u001b[0;34m=\u001b[0m \u001b[0mnp\u001b[0m\u001b[0;34m.\u001b[0m\u001b[0mvstack\u001b[0m\u001b[0;34m(\u001b[0m\u001b[0;34m(\u001b[0m\u001b[0mA1\u001b[0m\u001b[0;34m,\u001b[0m\u001b[0mA2\u001b[0m\u001b[0;34m,\u001b[0m\u001b[0mA3\u001b[0m\u001b[0;34m)\u001b[0m\u001b[0;34m)\u001b[0m\u001b[0;34m\u001b[0m\u001b[0;34m\u001b[0m\u001b[0m\n\u001b[0;32m---> 26\u001b[0;31m         \u001b[0mNewtonDirection\u001b[0m \u001b[0;34m=\u001b[0m \u001b[0mnp\u001b[0m\u001b[0;34m.\u001b[0m\u001b[0mlinalg\u001b[0m\u001b[0;34m.\u001b[0m\u001b[0minv\u001b[0m\u001b[0;34m(\u001b[0m\u001b[0mbarA\u001b[0m\u001b[0;34m)\u001b[0m\u001b[0;34m.\u001b[0m\u001b[0mdot\u001b[0m\u001b[0;34m(\u001b[0m\u001b[0mresidual\u001b[0m\u001b[0;34m)\u001b[0m\u001b[0;34m\u001b[0m\u001b[0;34m\u001b[0m\u001b[0m\n\u001b[0m\u001b[1;32m     27\u001b[0m         \u001b[0mdelta_x\u001b[0m \u001b[0;34m=\u001b[0m \u001b[0mNewtonDirection\u001b[0m\u001b[0;34m[\u001b[0m\u001b[0;36m0\u001b[0m\u001b[0;34m:\u001b[0m\u001b[0mn\u001b[0m\u001b[0;34m,\u001b[0m\u001b[0;36m0\u001b[0m\u001b[0;34m]\u001b[0m\u001b[0;34m.\u001b[0m\u001b[0mreshape\u001b[0m\u001b[0;34m(\u001b[0m\u001b[0mn\u001b[0m\u001b[0;34m,\u001b[0m\u001b[0;36m1\u001b[0m\u001b[0;34m)\u001b[0m\u001b[0;34m\u001b[0m\u001b[0;34m\u001b[0m\u001b[0m\n\u001b[1;32m     28\u001b[0m         \u001b[0mdelta_y\u001b[0m \u001b[0;34m=\u001b[0m \u001b[0mNewtonDirection\u001b[0m\u001b[0;34m[\u001b[0m\u001b[0mn\u001b[0m\u001b[0;34m:\u001b[0m\u001b[0mn\u001b[0m\u001b[0;34m+\u001b[0m\u001b[0mm\u001b[0m\u001b[0;34m,\u001b[0m\u001b[0;36m0\u001b[0m\u001b[0;34m]\u001b[0m\u001b[0;34m.\u001b[0m\u001b[0mreshape\u001b[0m\u001b[0;34m(\u001b[0m\u001b[0mm\u001b[0m\u001b[0;34m,\u001b[0m\u001b[0;36m1\u001b[0m\u001b[0;34m)\u001b[0m\u001b[0;34m\u001b[0m\u001b[0;34m\u001b[0m\u001b[0m\n",
            "\u001b[0;32m<__array_function__ internals>\u001b[0m in \u001b[0;36minv\u001b[0;34m(*args, **kwargs)\u001b[0m\n",
            "\u001b[0;32m/usr/local/lib/python3.8/dist-packages/numpy/linalg/linalg.py\u001b[0m in \u001b[0;36minv\u001b[0;34m(a)\u001b[0m\n\u001b[1;32m    543\u001b[0m     \u001b[0msignature\u001b[0m \u001b[0;34m=\u001b[0m \u001b[0;34m'D->D'\u001b[0m \u001b[0;32mif\u001b[0m \u001b[0misComplexType\u001b[0m\u001b[0;34m(\u001b[0m\u001b[0mt\u001b[0m\u001b[0;34m)\u001b[0m \u001b[0;32melse\u001b[0m \u001b[0;34m'd->d'\u001b[0m\u001b[0;34m\u001b[0m\u001b[0;34m\u001b[0m\u001b[0m\n\u001b[1;32m    544\u001b[0m     \u001b[0mextobj\u001b[0m \u001b[0;34m=\u001b[0m \u001b[0mget_linalg_error_extobj\u001b[0m\u001b[0;34m(\u001b[0m\u001b[0m_raise_linalgerror_singular\u001b[0m\u001b[0;34m)\u001b[0m\u001b[0;34m\u001b[0m\u001b[0;34m\u001b[0m\u001b[0m\n\u001b[0;32m--> 545\u001b[0;31m     \u001b[0mainv\u001b[0m \u001b[0;34m=\u001b[0m \u001b[0m_umath_linalg\u001b[0m\u001b[0;34m.\u001b[0m\u001b[0minv\u001b[0m\u001b[0;34m(\u001b[0m\u001b[0ma\u001b[0m\u001b[0;34m,\u001b[0m \u001b[0msignature\u001b[0m\u001b[0;34m=\u001b[0m\u001b[0msignature\u001b[0m\u001b[0;34m,\u001b[0m \u001b[0mextobj\u001b[0m\u001b[0;34m=\u001b[0m\u001b[0mextobj\u001b[0m\u001b[0;34m)\u001b[0m\u001b[0;34m\u001b[0m\u001b[0;34m\u001b[0m\u001b[0m\n\u001b[0m\u001b[1;32m    546\u001b[0m     \u001b[0;32mreturn\u001b[0m \u001b[0mwrap\u001b[0m\u001b[0;34m(\u001b[0m\u001b[0mainv\u001b[0m\u001b[0;34m.\u001b[0m\u001b[0mastype\u001b[0m\u001b[0;34m(\u001b[0m\u001b[0mresult_t\u001b[0m\u001b[0;34m,\u001b[0m \u001b[0mcopy\u001b[0m\u001b[0;34m=\u001b[0m\u001b[0;32mFalse\u001b[0m\u001b[0;34m)\u001b[0m\u001b[0;34m)\u001b[0m\u001b[0;34m\u001b[0m\u001b[0;34m\u001b[0m\u001b[0m\n\u001b[1;32m    547\u001b[0m \u001b[0;34m\u001b[0m\u001b[0m\n",
            "\u001b[0;31mKeyboardInterrupt\u001b[0m: "
          ]
        }
      ],
      "source": [
        "import pandas as pd\n",
        "import IPython.display\n",
        "\n",
        "dataForTable = {\n",
        "    '大學': [],\n",
        "    '相對效率': [],\n",
        "    '效率評鑑參考集合': [],\n",
        "}\n",
        "\n",
        "effront = {}\n",
        "xeffront = []\n",
        "yeffront = []\n",
        "\n",
        "other = {}\n",
        "xother = []\n",
        "yother = []\n",
        "\n",
        "## Do IPM and save results\n",
        "for i in range(len(A)):\n",
        "    solution = IPM(A[i], B, c, x0, y0, s0)\n",
        "    objective = solution[0,0] * 1000\n",
        "    dataForTable['大學'].append(chr(65+i))\n",
        "    dataForTable['相對效率'].append(round(objective, 3))\n",
        "    if abs(objective - 1) < 1e-6:\n",
        "        effront[chr(65+i)] = datas[i]\n",
        "        xeffront.append(datas[i][0])\n",
        "        yeffront.append(datas[i][1])\n",
        "        dataForTable['效率評鑑參考集合'].append('無')\n",
        "    else:\n",
        "        other[chr(65+i)] = datas[i]\n",
        "        xother.append(datas[i][0])\n",
        "        yother.append(datas[i][1])\n",
        "        dataForTable['效率評鑑參考集合'].append(None)\n",
        "    print(f'Utility of College {chr(65+i)}: {objective:.3f}', )\n",
        "    \n",
        "    \n",
        "    \n",
        "## Calculate intersactions\n",
        "intersaction = {}\n",
        "for key in other.keys():\n",
        "    vector = np.array(other[key])\n",
        "    effkeys = [*effront.keys()]\n",
        "    for i in range(len(xeffront) - 1):\n",
        "        vector1 = np.array([xeffront[i], yeffront[i]])\n",
        "        vector2 = np.array([xeffront[i+1], yeffront[i+1]])\n",
        "        if(np.cross(vector, vector1) * np.cross(vector, vector2) < 0):\n",
        "            intersaction[key] = {}\n",
        "            vectorLen = np.linalg.norm(vector)\n",
        "            point = (np.cross(vector1, vector2-vector1) / np.cross(vector, vector2-vector1)) * vector\n",
        "            lenA = np.linalg.norm(point - vector1)\n",
        "            lenB = np.linalg.norm(point - vector2)\n",
        "            intersaction[key][effkeys[i]] = lenA / (lenA + lenB)\n",
        "            intersaction[key][effkeys[i+1]] = lenB / (lenA + lenB)\n",
        "            intersaction[key]['point'] = point\n",
        "            \n",
        "#print(intersaction)\n",
        "            \n",
        "## Save info of intersactions\n",
        "temp = dataForTable['效率評鑑參考集合']\n",
        "for i in range(len(temp)):\n",
        "    if not temp[i]:\n",
        "        refer = [*intersaction[chr(65+i)].keys()]\n",
        "        refer.pop()\n",
        "        temp[i] = ''\n",
        "        for key in refer:\n",
        "            temp[i] += f'{key}({intersaction[chr(65+i)][key]:.3f}) '\n",
        "        temp[i] = temp[i].strip().replace(' ', '; ')\n",
        "            \n",
        "#print(dataForTable)\n",
        "\n",
        "## Display table\n",
        "table = pd.DataFrame(dataForTable)\n",
        "table.head().style.hide_index()\n",
        "display(table)\n",
        "\n",
        "\n",
        "## Plot\n",
        "plt.rcParams[\"figure.figsize\"] = (6, 6)\n",
        "plt.plot(xeffront, yeffront)\n",
        "for key in effront.keys():\n",
        "    point = (effront[key][0], effront[key][1])\n",
        "    plt.text(0.1+point[0], point[1], s=f'{key} {point}')\n",
        "    plt.scatter(point[0], point[1], c='b')\n",
        "for key in other.keys():\n",
        "    point = (other[key][0], other[key][1])\n",
        "    plt.plot([0, point[0]], [0, point[1]])\n",
        "    plt.text(0.1+point[0], point[1], s=f'{key} {point}')\n",
        "    plt.scatter(point[0], point[1], c='g')\n",
        "for key in intersaction.keys():\n",
        "    point = tuple(intersaction[key]['point'])\n",
        "    plt.text(0.15+point[0], point[1], s=f'{key}\\' ({point[0]:.3f}, {point[1]:.3f})')\n",
        "    plt.scatter(point[0], point[1], c='r')\n",
        "plt.grid()"
      ]
    },
    {
      "cell_type": "code",
      "source": [],
      "metadata": {
        "id": "JucRw_oHy71d"
      },
      "id": "JucRw_oHy71d",
      "execution_count": null,
      "outputs": []
    }
  ],
  "metadata": {
    "kernelspec": {
      "display_name": "Python 3 (ipykernel)",
      "language": "python",
      "name": "python3"
    },
    "language_info": {
      "codemirror_mode": {
        "name": "ipython",
        "version": 3
      },
      "file_extension": ".py",
      "mimetype": "text/x-python",
      "name": "python",
      "nbconvert_exporter": "python",
      "pygments_lexer": "ipython3",
      "version": "3.9.7"
    },
    "colab": {
      "provenance": []
    }
  },
  "nbformat": 4,
  "nbformat_minor": 5
}