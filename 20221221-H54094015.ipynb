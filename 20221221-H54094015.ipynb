{
 "cells": [
  {
   "cell_type": "markdown",
   "id": "ef2b6469",
   "metadata": {},
   "source": [
    "Given a Linear Programming:\n",
    "$$\n",
    "\\begin{array}{rl}\n",
    "\\min & {\\bf c}^t{\\bf x}\\\\\n",
    "s.t. & A {\\bf x}=b\\\\\n",
    " & x_{0},x_{1},x_{2}:unrestricted\\\\\n",
    " & x_{3},x_{4},\\cdots,x_{10}\\geq 0\\\\\n",
    " &{\\bf x}=(x_0,x_2,\\cdots,x_{10})\\\\\n",
    "\\end{array}\n",
    "$$"
   ]
  },
  {
   "cell_type": "code",
   "execution_count": 21,
   "id": "98be1a3e",
   "metadata": {},
   "outputs": [],
   "source": [
    "def solveGeneralLP(A,b,c,Dim):\n",
    "    m,n=A.shape\n",
    "    generalLP = gp.Model(\"generalLP\")\n",
    "    \n",
    "    decisionVariables = [] #決策變數\n",
    "    for i in range(Dim):\n",
    "        decisionVariables.append(generalLP.addVar(name = \"x\" + str(i)))\n",
    "    for i in range(Dim,n):\n",
    "        decisionVariables.append(generalLP.addVar(lb=0,name = \"x\" + str(i)))\n",
    "    \n",
    "    objVal=sum(decisionVariables[i]*c[i] for i in range(n)) #目標函數\n",
    "    \n",
    "    for i in range(m):\n",
    "        generalLP.addConstr(sum(decisionVariables[j]*A[i,j] for j in range(n)) == b[i], \"cons\" + str(i))\n",
    "    \n",
    "    generalLP.setObjective(objVal, GRB.MINIMIZE)\n",
    "    generalLP.optimize()\n",
    "    return generalLP"
   ]
  },
  {
   "cell_type": "code",
   "execution_count": 25,
   "id": "747d483b",
   "metadata": {},
   "outputs": [
    {
     "ename": "TypeError",
     "evalue": "unsupported operand type(s) for -: 'str' and 'str'",
     "output_type": "error",
     "traceback": [
      "\u001b[1;31m---------------------------------------------------------------------------\u001b[0m",
      "\u001b[1;31mTypeError\u001b[0m                                 Traceback (most recent call last)",
      "\u001b[1;32m<ipython-input-25-7d897aad9ada>\u001b[0m in \u001b[0;36m<module>\u001b[1;34m\u001b[0m\n\u001b[0;32m      7\u001b[0m \u001b[0mv\u001b[0m\u001b[1;33m.\u001b[0m\u001b[0mappend\u001b[0m\u001b[1;33m(\u001b[0m\u001b[0mDEA\u001b[0m\u001b[1;33m.\u001b[0m\u001b[0maddVar\u001b[0m\u001b[1;33m(\u001b[0m\u001b[0mname\u001b[0m \u001b[1;33m=\u001b[0m \u001b[1;34m\"v2\"\u001b[0m\u001b[1;33m)\u001b[0m\u001b[1;33m)\u001b[0m\u001b[1;33m\u001b[0m\u001b[1;33m\u001b[0m\u001b[0m\n\u001b[0;32m      8\u001b[0m \u001b[1;31m#設定下界為0\u001b[0m\u001b[1;33m\u001b[0m\u001b[1;33m\u001b[0m\u001b[1;33m\u001b[0m\u001b[0m\n\u001b[1;32m----> 9\u001b[1;33m \u001b[0mDEA\u001b[0m\u001b[1;33m.\u001b[0m\u001b[0maddConstr\u001b[0m\u001b[1;33m(\u001b[0m\u001b[0mGRB\u001b[0m\u001b[1;33m.\u001b[0m\u001b[0mGREATER_EQUAL\u001b[0m\u001b[1;33m,\u001b[0m \u001b[1;36m0.0\u001b[0m\u001b[1;33m,\u001b[0m \u001b[1;34m\"lower bound = 0\"\u001b[0m\u001b[1;33m)\u001b[0m\u001b[1;33m\u001b[0m\u001b[1;33m\u001b[0m\u001b[0m\n\u001b[0m\u001b[0;32m     10\u001b[0m \u001b[1;31m#DEA.addConstrs(u >= 0, \"Lower bound\")\u001b[0m\u001b[1;33m\u001b[0m\u001b[1;33m\u001b[0m\u001b[1;33m\u001b[0m\u001b[0m\n",
      "\u001b[1;32msrc\\gurobipy\\model.pxi\u001b[0m in \u001b[0;36mgurobipy.Model.addConstr\u001b[1;34m()\u001b[0m\n",
      "\u001b[1;31mTypeError\u001b[0m: unsupported operand type(s) for -: 'str' and 'str'"
     ]
    }
   ],
   "source": [
    "import gurobipy as gp  \n",
    "from gurobipy import GRB\n",
    "DEA = gp.Model(\"DEA\")\n",
    "u = DEA.addVar(name = \"u\")\n",
    "v = []\n",
    "v.append(DEA.addVar(name = \"v1\"))\n",
    "v.append(DEA.addVar(name = \"v2\"))\n",
    "#設定下界為0\n",
    "#DEA.addConstr(GRB.GREATER_EQUAL, 0.0, \"lower bound = 0\")\n",
    "#DEA.addConstrs(u >= 0, \"Lower bound\")"
   ]
  },
  {
   "cell_type": "code",
   "execution_count": null,
   "id": "f606c88f",
   "metadata": {},
   "outputs": [],
   "source": []
  }
 ],
 "metadata": {
  "kernelspec": {
   "display_name": "Python 3",
   "language": "python",
   "name": "python3"
  },
  "language_info": {
   "codemirror_mode": {
    "name": "ipython",
    "version": 3
   },
   "file_extension": ".py",
   "mimetype": "text/x-python",
   "name": "python",
   "nbconvert_exporter": "python",
   "pygments_lexer": "ipython3",
   "version": "3.8.8"
  }
 },
 "nbformat": 4,
 "nbformat_minor": 5
}
